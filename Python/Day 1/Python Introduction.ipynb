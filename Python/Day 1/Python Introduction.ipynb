{
 "cells": [
  {
   "cell_type": "code",
   "execution_count": 1,
   "id": "cb500dcc-00d1-466b-8949-43b899b32761",
   "metadata": {},
   "outputs": [
    {
     "data": {
      "text/plain": [
       "2"
      ]
     },
     "execution_count": 1,
     "metadata": {},
     "output_type": "execute_result"
    }
   ],
   "source": [
    "1+1"
   ]
  },
  {
   "cell_type": "code",
   "execution_count": 2,
   "id": "a9439d6a-208f-4fb9-b6ad-bc9e4a4197f5",
   "metadata": {},
   "outputs": [
    {
     "data": {
      "text/plain": [
       "30"
      ]
     },
     "execution_count": 2,
     "metadata": {},
     "output_type": "execute_result"
    }
   ],
   "source": [
    "5*6"
   ]
  },
  {
   "cell_type": "code",
   "execution_count": 3,
   "id": "c918e593-13db-4b45-8887-4b213a4d88d0",
   "metadata": {},
   "outputs": [],
   "source": [
    "a = 10"
   ]
  },
  {
   "cell_type": "code",
   "execution_count": 5,
   "id": "fbb57566-2f31-42ef-be54-3561db28f511",
   "metadata": {},
   "outputs": [],
   "source": [
    "b = \"haary\""
   ]
  },
  {
   "cell_type": "code",
   "execution_count": 6,
   "id": "897bd9ef-c951-40d3-9c6a-89aa879d2ed3",
   "metadata": {},
   "outputs": [
    {
     "data": {
      "text/plain": [
       "'haary'"
      ]
     },
     "execution_count": 6,
     "metadata": {},
     "output_type": "execute_result"
    }
   ],
   "source": [
    "b"
   ]
  },
  {
   "cell_type": "code",
   "execution_count": 7,
   "id": "355117c5-766a-4022-9105-4a7cd92d1446",
   "metadata": {},
   "outputs": [],
   "source": [
    "harry = 20"
   ]
  },
  {
   "cell_type": "code",
   "execution_count": 8,
   "id": "7cbf0fb8-7c45-42b9-822b-4356784b628d",
   "metadata": {},
   "outputs": [
    {
     "data": {
      "text/plain": [
       "20"
      ]
     },
     "execution_count": 8,
     "metadata": {},
     "output_type": "execute_result"
    }
   ],
   "source": [
    "harry"
   ]
  },
  {
   "cell_type": "code",
   "execution_count": 9,
   "id": "bd41d128-acdb-48ef-8076-a7de7a720fdf",
   "metadata": {},
   "outputs": [
    {
     "data": {
      "text/plain": [
       "30"
      ]
     },
     "execution_count": 9,
     "metadata": {},
     "output_type": "execute_result"
    }
   ],
   "source": [
    "a+harry"
   ]
  },
  {
   "cell_type": "code",
   "execution_count": 11,
   "id": "98b8412c-8e10-44c2-be39-b8ac4984a1bd",
   "metadata": {},
   "outputs": [
    {
     "data": {
      "text/plain": [
       "int"
      ]
     },
     "execution_count": 11,
     "metadata": {},
     "output_type": "execute_result"
    }
   ],
   "source": [
    "type(a)"
   ]
  },
  {
   "cell_type": "code",
   "execution_count": 12,
   "id": "802848d1-861c-4c46-8f5b-0ce940a2ca6a",
   "metadata": {},
   "outputs": [
    {
     "data": {
      "text/plain": [
       "str"
      ]
     },
     "execution_count": 12,
     "metadata": {},
     "output_type": "execute_result"
    }
   ],
   "source": [
    "type(b)"
   ]
  },
  {
   "cell_type": "code",
   "execution_count": 13,
   "id": "5fee3e0a-6ec8-4693-a0b3-c528c6c361b8",
   "metadata": {},
   "outputs": [
    {
     "data": {
      "text/plain": [
       "int"
      ]
     },
     "execution_count": 13,
     "metadata": {},
     "output_type": "execute_result"
    }
   ],
   "source": [
    "type(harry)"
   ]
  },
  {
   "cell_type": "code",
   "execution_count": 14,
   "id": "623ff6a0-b66d-4321-bf87-63af68539bf8",
   "metadata": {},
   "outputs": [],
   "source": [
    "c = 234.654"
   ]
  },
  {
   "cell_type": "code",
   "execution_count": 15,
   "id": "d6c82bd6-3c1f-4178-83a1-f589cd2a26e6",
   "metadata": {},
   "outputs": [
    {
     "data": {
      "text/plain": [
       "float"
      ]
     },
     "execution_count": 15,
     "metadata": {},
     "output_type": "execute_result"
    }
   ],
   "source": [
    "type(c)"
   ]
  },
  {
   "cell_type": "code",
   "execution_count": 16,
   "id": "8b87ac09-823e-4cf0-8315-5ac995887750",
   "metadata": {},
   "outputs": [],
   "source": [
    "d = \"This is my first tech class\""
   ]
  },
  {
   "cell_type": "code",
   "execution_count": 17,
   "id": "57d54028-d6c3-4245-8ec6-58801de23d21",
   "metadata": {},
   "outputs": [
    {
     "data": {
      "text/plain": [
       "str"
      ]
     },
     "execution_count": 17,
     "metadata": {},
     "output_type": "execute_result"
    }
   ],
   "source": [
    "type(d)"
   ]
  },
  {
   "cell_type": "code",
   "execution_count": 18,
   "id": "71fb1df5-fe30-4192-8ecb-dfd5c1d110d3",
   "metadata": {},
   "outputs": [],
   "source": [
    "n = True ##(1) value"
   ]
  },
  {
   "cell_type": "code",
   "execution_count": 19,
   "id": "945049c9-c192-401b-a0e4-4f338ea80cc2",
   "metadata": {},
   "outputs": [
    {
     "data": {
      "text/plain": [
       "bool"
      ]
     },
     "execution_count": 19,
     "metadata": {},
     "output_type": "execute_result"
    }
   ],
   "source": [
    "type(n)"
   ]
  },
  {
   "cell_type": "code",
   "execution_count": 20,
   "id": "7e8149a0-8945-41fd-8271-843299a2b3c2",
   "metadata": {},
   "outputs": [],
   "source": [
    "m = False ##(0) value"
   ]
  },
  {
   "cell_type": "code",
   "execution_count": 21,
   "id": "7f06b06d-8dd8-4fd7-8e75-8b4350adb6c5",
   "metadata": {},
   "outputs": [
    {
     "data": {
      "text/plain": [
       "bool"
      ]
     },
     "execution_count": 21,
     "metadata": {},
     "output_type": "execute_result"
    }
   ],
   "source": [
    "type(m)"
   ]
  },
  {
   "cell_type": "code",
   "execution_count": 22,
   "id": "998e6f4c-1cc5-4c3d-9a57-149eac04858c",
   "metadata": {},
   "outputs": [
    {
     "data": {
      "text/plain": [
       "1"
      ]
     },
     "execution_count": 22,
     "metadata": {},
     "output_type": "execute_result"
    }
   ],
   "source": [
    "n+m ## (1+0)"
   ]
  },
  {
   "cell_type": "code",
   "execution_count": 23,
   "id": "97c537c9-9eaf-424a-902c-87530347b5f8",
   "metadata": {},
   "outputs": [
    {
     "ename": "ZeroDivisionError",
     "evalue": "division by zero",
     "output_type": "error",
     "traceback": [
      "\u001b[0;31m---------------------------------------------------------------------------\u001b[0m",
      "\u001b[0;31mZeroDivisionError\u001b[0m                         Traceback (most recent call last)",
      "Cell \u001b[0;32mIn [23], line 1\u001b[0m\n\u001b[0;32m----> 1\u001b[0m \u001b[38;5;28;43;01mTrue\u001b[39;49;00m\u001b[38;5;241;43m/\u001b[39;49m\u001b[38;5;28;43;01mFalse\u001b[39;49;00m\n",
      "\u001b[0;31mZeroDivisionError\u001b[0m: division by zero"
     ]
    }
   ],
   "source": [
    "True/False ##Error"
   ]
  },
  {
   "cell_type": "code",
   "execution_count": 24,
   "id": "7f9b89db-8630-4981-b95c-7ae67bfa82bf",
   "metadata": {},
   "outputs": [],
   "source": [
    "v = 5+7j"
   ]
  },
  {
   "cell_type": "code",
   "execution_count": 25,
   "id": "e2d4a6d2-6997-46a6-944f-784135c36836",
   "metadata": {},
   "outputs": [
    {
     "data": {
      "text/plain": [
       "complex"
      ]
     },
     "execution_count": 25,
     "metadata": {},
     "output_type": "execute_result"
    }
   ],
   "source": [
    "type(v)"
   ]
  },
  {
   "cell_type": "code",
   "execution_count": 26,
   "id": "626ddafc-43ed-4d88-a584-5ef0bcd2e5f7",
   "metadata": {},
   "outputs": [
    {
     "data": {
      "text/plain": [
       "7.0"
      ]
     },
     "execution_count": 26,
     "metadata": {},
     "output_type": "execute_result"
    }
   ],
   "source": [
    "v.imag ## Imaginary Number"
   ]
  },
  {
   "cell_type": "code",
   "execution_count": 27,
   "id": "ca7e90e9-c4b6-4d47-8f1a-afbf63c2998f",
   "metadata": {},
   "outputs": [
    {
     "data": {
      "text/plain": [
       "5.0"
      ]
     },
     "execution_count": 27,
     "metadata": {},
     "output_type": "execute_result"
    }
   ],
   "source": [
    "v.real ## Real Number"
   ]
  },
  {
   "cell_type": "code",
   "execution_count": 28,
   "id": "456d65d8-d822-43ed-88f2-721943eacc25",
   "metadata": {},
   "outputs": [
    {
     "data": {
      "text/plain": [
       "(5+7j)"
      ]
     },
     "execution_count": 28,
     "metadata": {},
     "output_type": "execute_result"
    }
   ],
   "source": [
    "v"
   ]
  },
  {
   "cell_type": "code",
   "execution_count": 29,
   "id": "32511acf-be1f-44ec-9249-969768c308a1",
   "metadata": {},
   "outputs": [
    {
     "name": "stdout",
     "output_type": "stream",
     "text": [
      "My name is haseeb\n"
     ]
    }
   ],
   "source": [
    "print(\"My name is haseeb\")"
   ]
  },
  {
   "cell_type": "code",
   "execution_count": 30,
   "id": "6bf8638c-5a4c-4049-8095-6a0f6c21e067",
   "metadata": {},
   "outputs": [
    {
     "name": "stdout",
     "output_type": "stream",
     "text": [
      "10\n"
     ]
    }
   ],
   "source": [
    "print(a)"
   ]
  },
  {
   "cell_type": "code",
   "execution_count": 31,
   "id": "a5c1f1d7-7f9c-4f38-ac25-cdc704ae6f89",
   "metadata": {},
   "outputs": [
    {
     "name": "stdout",
     "output_type": "stream",
     "text": [
      "20\n"
     ]
    }
   ],
   "source": [
    "print(harry)"
   ]
  },
  {
   "cell_type": "code",
   "execution_count": 32,
   "id": "41997597-3055-4425-9af4-2fdb46cac394",
   "metadata": {},
   "outputs": [],
   "source": [
    "s = \"physics wallah\""
   ]
  },
  {
   "cell_type": "code",
   "execution_count": 33,
   "id": "a40c59e2-5114-4795-9aa4-fb6b3d8d0a9c",
   "metadata": {},
   "outputs": [
    {
     "data": {
      "text/plain": [
       "'physics wallah'"
      ]
     },
     "execution_count": 33,
     "metadata": {},
     "output_type": "execute_result"
    }
   ],
   "source": [
    "s"
   ]
  },
  {
   "cell_type": "code",
   "execution_count": 34,
   "id": "b08bf86a-8ea3-4199-a152-3ca724449002",
   "metadata": {},
   "outputs": [
    {
     "data": {
      "text/plain": [
       "'s'"
      ]
     },
     "execution_count": 34,
     "metadata": {},
     "output_type": "execute_result"
    }
   ],
   "source": [
    "s[3]"
   ]
  },
  {
   "cell_type": "code",
   "execution_count": 35,
   "id": "93a59301-b66e-4b53-9187-2d00ea33c79b",
   "metadata": {},
   "outputs": [
    {
     "data": {
      "text/plain": [
       "str"
      ]
     },
     "execution_count": 35,
     "metadata": {},
     "output_type": "execute_result"
    }
   ],
   "source": [
    "type(s)"
   ]
  },
  {
   "cell_type": "code",
   "execution_count": 36,
   "id": "b9fac9bf-1d2d-47bf-8abb-bf87a1c55641",
   "metadata": {},
   "outputs": [
    {
     "data": {
      "text/plain": [
       "'l'"
      ]
     },
     "execution_count": 36,
     "metadata": {},
     "output_type": "execute_result"
    }
   ],
   "source": [
    "s[10]"
   ]
  },
  {
   "cell_type": "code",
   "execution_count": 39,
   "id": "ea344371-d2ab-4542-ac42-6c4a33a71e64",
   "metadata": {},
   "outputs": [
    {
     "data": {
      "text/plain": [
       "'physics wallah'"
      ]
     },
     "execution_count": 39,
     "metadata": {},
     "output_type": "execute_result"
    }
   ],
   "source": [
    "s[::1] ## Forward Indexing"
   ]
  },
  {
   "cell_type": "code",
   "execution_count": 38,
   "id": "23d7610a-68fd-4ed0-bb95-61ab327c6269",
   "metadata": {},
   "outputs": [
    {
     "data": {
      "text/plain": [
       "'hallaw scisyhp'"
      ]
     },
     "execution_count": 38,
     "metadata": {},
     "output_type": "execute_result"
    }
   ],
   "source": [
    "s[::-1] ## Backward Indexing"
   ]
  },
  {
   "cell_type": "code",
   "execution_count": 41,
   "id": "c6bc6334-aac2-4835-b5ba-9a9df2450495",
   "metadata": {},
   "outputs": [
    {
     "data": {
      "text/plain": [
       "'phy'"
      ]
     },
     "execution_count": 41,
     "metadata": {},
     "output_type": "execute_result"
    }
   ],
   "source": [
    "s[0:3] # Slicing(string)"
   ]
  },
  {
   "cell_type": "code",
   "execution_count": 42,
   "id": "1815b939-4e92-42df-b838-794963437556",
   "metadata": {},
   "outputs": [
    {
     "data": {
      "text/plain": [
       "'physics'"
      ]
     },
     "execution_count": 42,
     "metadata": {},
     "output_type": "execute_result"
    }
   ],
   "source": [
    "s[0:7]"
   ]
  },
  {
   "cell_type": "code",
   "execution_count": 43,
   "id": "31c7b280-b32c-4871-9882-a83fec59ce83",
   "metadata": {},
   "outputs": [
    {
     "data": {
      "text/plain": [
       "'pyiswla'"
      ]
     },
     "execution_count": 43,
     "metadata": {},
     "output_type": "execute_result"
    }
   ],
   "source": [
    "s[::2] # Alternate Forward Slicing"
   ]
  },
  {
   "cell_type": "code",
   "execution_count": 44,
   "id": "39a0fe98-5875-4dea-9ceb-cd1664e408b5",
   "metadata": {},
   "outputs": [
    {
     "data": {
      "text/plain": [
       "'hla csh'"
      ]
     },
     "execution_count": 44,
     "metadata": {},
     "output_type": "execute_result"
    }
   ],
   "source": [
    "s[::-2] # Alternate Backward Slicing"
   ]
  },
  {
   "cell_type": "code",
   "execution_count": 46,
   "id": "a090651b-5d63-4c85-9f6a-fd95c138c7ba",
   "metadata": {},
   "outputs": [
    {
     "data": {
      "text/plain": [
       "'ysics wallah'"
      ]
     },
     "execution_count": 46,
     "metadata": {},
     "output_type": "execute_result"
    }
   ],
   "source": [
    "s[2::1]"
   ]
  },
  {
   "cell_type": "code",
   "execution_count": 3,
   "id": "293cf17f-3b3f-4ade-8e42-382cb5ca2d98",
   "metadata": {},
   "outputs": [],
   "source": [
    "p = \"python\""
   ]
  },
  {
   "cell_type": "code",
   "execution_count": 5,
   "id": "a9128bc2-ae98-4d2f-b2ac-214324c5f250",
   "metadata": {},
   "outputs": [
    {
     "data": {
      "text/plain": [
       "'python'"
      ]
     },
     "execution_count": 5,
     "metadata": {},
     "output_type": "execute_result"
    }
   ],
   "source": [
    "p"
   ]
  },
  {
   "cell_type": "code",
   "execution_count": 6,
   "id": "138d79c6-63dd-4588-83ec-98ce25dc69b6",
   "metadata": {},
   "outputs": [
    {
     "data": {
      "text/plain": [
       "'nohty'"
      ]
     },
     "execution_count": 6,
     "metadata": {},
     "output_type": "execute_result"
    }
   ],
   "source": [
    "p[8:0:-1]"
   ]
  },
  {
   "cell_type": "code",
   "execution_count": 9,
   "id": "b6135016-2707-42c6-98e4-a2354dfc5a3a",
   "metadata": {},
   "outputs": [
    {
     "data": {
      "text/plain": [
       "''"
      ]
     },
     "execution_count": 9,
     "metadata": {},
     "output_type": "execute_result"
    }
   ],
   "source": [
    "p[-2:-8:1]"
   ]
  },
  {
   "cell_type": "code",
   "execution_count": 10,
   "id": "c69651c1-b59c-49a3-964c-e6d9adcd4b00",
   "metadata": {},
   "outputs": [
    {
     "data": {
      "text/plain": [
       "'ohtyp'"
      ]
     },
     "execution_count": 10,
     "metadata": {},
     "output_type": "execute_result"
    }
   ],
   "source": [
    "p[-2::-1]"
   ]
  },
  {
   "cell_type": "code",
   "execution_count": 11,
   "id": "3ed440ec-8675-4721-802d-9dd51fc081ba",
   "metadata": {},
   "outputs": [
    {
     "ename": "IndexError",
     "evalue": "string index out of range",
     "output_type": "error",
     "traceback": [
      "\u001b[0;31m---------------------------------------------------------------------------\u001b[0m",
      "\u001b[0;31mIndexError\u001b[0m                                Traceback (most recent call last)",
      "Cell \u001b[0;32mIn [11], line 1\u001b[0m\n\u001b[0;32m----> 1\u001b[0m \u001b[43mp\u001b[49m\u001b[43m[\u001b[49m\u001b[38;5;241;43m90\u001b[39;49m\u001b[43m]\u001b[49m\n",
      "\u001b[0;31mIndexError\u001b[0m: string index out of range"
     ]
    }
   ],
   "source": [
    "# In the case of index existence matters.\n",
    "p[90]"
   ]
  },
  {
   "cell_type": "code",
   "execution_count": 12,
   "id": "64052033-0f3a-45df-bf9e-c9731e97935f",
   "metadata": {},
   "outputs": [
    {
     "data": {
      "text/plain": [
       "''"
      ]
     },
     "execution_count": 12,
     "metadata": {},
     "output_type": "execute_result"
    }
   ],
   "source": [
    "p[:-90:]"
   ]
  },
  {
   "cell_type": "code",
   "execution_count": 13,
   "id": "3f8b8607-55af-4fa6-bdbf-ac4c356c2cf8",
   "metadata": {},
   "outputs": [
    {
     "data": {
      "text/plain": [
       "'nohtyp'"
      ]
     },
     "execution_count": 13,
     "metadata": {},
     "output_type": "execute_result"
    }
   ],
   "source": [
    "# In the case of slicing index matters .\n",
    "p[:-90:-1]"
   ]
  },
  {
   "cell_type": "code",
   "execution_count": 14,
   "id": "2994672d-f3aa-4ee7-a58b-f2d89469cbb1",
   "metadata": {},
   "outputs": [],
   "source": [
    "# 200 ka ek hi index hai toh yeh aalag aalag print nhi ho skta .\n",
    "c = 200"
   ]
  },
  {
   "cell_type": "code",
   "execution_count": 15,
   "id": "e4b5b07f-5b6a-4f51-9f95-cce538d8784c",
   "metadata": {},
   "outputs": [
    {
     "data": {
      "text/plain": [
       "200"
      ]
     },
     "execution_count": 15,
     "metadata": {},
     "output_type": "execute_result"
    }
   ],
   "source": [
    "c"
   ]
  },
  {
   "cell_type": "code",
   "execution_count": 16,
   "id": "14df99b7-e189-4052-ad9f-803480911802",
   "metadata": {},
   "outputs": [],
   "source": [
    "s1 = \"this is my string class\""
   ]
  },
  {
   "cell_type": "code",
   "execution_count": 17,
   "id": "058b5717-c26e-442a-891f-a31c284fe5e6",
   "metadata": {},
   "outputs": [
    {
     "data": {
      "text/plain": [
       "'this is my string class'"
      ]
     },
     "execution_count": 17,
     "metadata": {},
     "output_type": "execute_result"
    }
   ],
   "source": [
    "s1"
   ]
  },
  {
   "cell_type": "code",
   "execution_count": 18,
   "id": "80b54032-8bc3-4cbc-8d80-f7d228af8297",
   "metadata": {},
   "outputs": [
    {
     "data": {
      "text/plain": [
       "23"
      ]
     },
     "execution_count": 18,
     "metadata": {},
     "output_type": "execute_result"
    }
   ],
   "source": [
    "len(s1)"
   ]
  },
  {
   "cell_type": "code",
   "execution_count": 20,
   "id": "953f660c-b130-4a39-b710-ece8b1999cb2",
   "metadata": {},
   "outputs": [
    {
     "data": {
      "text/plain": [
       "3"
      ]
     },
     "execution_count": 20,
     "metadata": {},
     "output_type": "execute_result"
    }
   ],
   "source": [
    "s1.find('s')"
   ]
  },
  {
   "cell_type": "code",
   "execution_count": 23,
   "id": "ede19dd7-69d8-4b52-abf3-f60e0df55ef1",
   "metadata": {},
   "outputs": [
    {
     "data": {
      "text/plain": [
       "2"
      ]
     },
     "execution_count": 23,
     "metadata": {},
     "output_type": "execute_result"
    }
   ],
   "source": [
    "s1.find('i')"
   ]
  },
  {
   "cell_type": "code",
   "execution_count": 24,
   "id": "f1082b51-5ee4-4ab6-8525-64e17b2373b8",
   "metadata": {},
   "outputs": [
    {
     "data": {
      "text/plain": [
       "5"
      ]
     },
     "execution_count": 24,
     "metadata": {},
     "output_type": "execute_result"
    }
   ],
   "source": [
    "s1.count('s')"
   ]
  },
  {
   "cell_type": "code",
   "execution_count": 25,
   "id": "d22c4398-7494-427c-a593-583903ee313d",
   "metadata": {},
   "outputs": [
    {
     "data": {
      "text/plain": [
       "2"
      ]
     },
     "execution_count": 25,
     "metadata": {},
     "output_type": "execute_result"
    }
   ],
   "source": [
    "s1.count('t')"
   ]
  },
  {
   "cell_type": "code",
   "execution_count": 26,
   "id": "f9ca3638-5a63-460e-900e-67b12df949fa",
   "metadata": {},
   "outputs": [
    {
     "data": {
      "text/plain": [
       "0"
      ]
     },
     "execution_count": 26,
     "metadata": {},
     "output_type": "execute_result"
    }
   ],
   "source": [
    "s1.count('zero')"
   ]
  },
  {
   "cell_type": "code",
   "execution_count": 27,
   "id": "93d42fdd-6aff-49cb-b2b4-b6cf3491286c",
   "metadata": {},
   "outputs": [
    {
     "data": {
      "text/plain": [
       "'this is my string class'"
      ]
     },
     "execution_count": 27,
     "metadata": {},
     "output_type": "execute_result"
    }
   ],
   "source": [
    "s1"
   ]
  },
  {
   "cell_type": "code",
   "execution_count": 28,
   "id": "eb25081f-f259-4621-adb7-15edcb672db5",
   "metadata": {},
   "outputs": [
    {
     "data": {
      "text/plain": [
       "'THIS IS MY STRING CLASS'"
      ]
     },
     "execution_count": 28,
     "metadata": {},
     "output_type": "execute_result"
    }
   ],
   "source": [
    "s1.upper()"
   ]
  },
  {
   "cell_type": "code",
   "execution_count": 30,
   "id": "40cf3988-47ff-45ca-b84a-0c4801a82a63",
   "metadata": {},
   "outputs": [
    {
     "data": {
      "text/plain": [
       "'this is my string class'"
      ]
     },
     "execution_count": 30,
     "metadata": {},
     "output_type": "execute_result"
    }
   ],
   "source": [
    "s1.lower()"
   ]
  },
  {
   "cell_type": "code",
   "execution_count": 31,
   "id": "66373409-8407-41aa-bb48-a31784079e63",
   "metadata": {},
   "outputs": [
    {
     "data": {
      "text/plain": [
       "'This Is My String Class'"
      ]
     },
     "execution_count": 31,
     "metadata": {},
     "output_type": "execute_result"
    }
   ],
   "source": [
    "s1.title()"
   ]
  },
  {
   "cell_type": "code",
   "execution_count": 33,
   "id": "aa45cca2-2f1b-4486-bcea-3796fac2899e",
   "metadata": {},
   "outputs": [
    {
     "data": {
      "text/plain": [
       "'This is my string class'"
      ]
     },
     "execution_count": 33,
     "metadata": {},
     "output_type": "execute_result"
    }
   ],
   "source": [
    "s1.capitalize()"
   ]
  },
  {
   "cell_type": "code",
   "execution_count": 34,
   "id": "738780f7-8c38-4575-92a6-1b18dd26dd59",
   "metadata": {},
   "outputs": [
    {
     "data": {
      "text/plain": [
       "'this is my string class'"
      ]
     },
     "execution_count": 34,
     "metadata": {},
     "output_type": "execute_result"
    }
   ],
   "source": [
    "s1"
   ]
  },
  {
   "cell_type": "code",
   "execution_count": 35,
   "id": "352561af-c48d-49c0-b7c4-63ba42fb51f8",
   "metadata": {},
   "outputs": [
    {
     "ename": "TypeError",
     "evalue": "can only concatenate str (not \"int\") to str",
     "output_type": "error",
     "traceback": [
      "\u001b[0;31m---------------------------------------------------------------------------\u001b[0m",
      "\u001b[0;31mTypeError\u001b[0m                                 Traceback (most recent call last)",
      "Cell \u001b[0;32mIn [35], line 1\u001b[0m\n\u001b[0;32m----> 1\u001b[0m \u001b[43ms1\u001b[49m\u001b[43m \u001b[49m\u001b[38;5;241;43m+\u001b[39;49m\u001b[43m \u001b[49m\u001b[38;5;241;43m1\u001b[39;49m\n",
      "\u001b[0;31mTypeError\u001b[0m: can only concatenate str (not \"int\") to str"
     ]
    }
   ],
   "source": [
    "s1 + 1"
   ]
  },
  {
   "cell_type": "code",
   "execution_count": 36,
   "id": "b01d36ed-eb54-4c3b-b7ad-9cf916ba09dc",
   "metadata": {},
   "outputs": [],
   "source": [
    "s2 = \"hello\""
   ]
  },
  {
   "cell_type": "code",
   "execution_count": 37,
   "id": "1b34043e-b297-4979-b693-b2b2d9ec2489",
   "metadata": {},
   "outputs": [
    {
     "data": {
      "text/plain": [
       "'hello'"
      ]
     },
     "execution_count": 37,
     "metadata": {},
     "output_type": "execute_result"
    }
   ],
   "source": [
    "s2"
   ]
  },
  {
   "cell_type": "code",
   "execution_count": 38,
   "id": "7cfc077c-16dc-40a3-bc7a-9bbbfc32d264",
   "metadata": {},
   "outputs": [
    {
     "data": {
      "text/plain": [
       "'this is my string classhello'"
      ]
     },
     "execution_count": 38,
     "metadata": {},
     "output_type": "execute_result"
    }
   ],
   "source": [
    "s1 +s2"
   ]
  },
  {
   "cell_type": "code",
   "execution_count": 39,
   "id": "66e0c455-47e2-4532-8d73-c70ee4dc41f3",
   "metadata": {},
   "outputs": [
    {
     "data": {
      "text/plain": [
       "'this is my string class1'"
      ]
     },
     "execution_count": 39,
     "metadata": {},
     "output_type": "execute_result"
    }
   ],
   "source": [
    "s1+str(1)"
   ]
  },
  {
   "cell_type": "code",
   "execution_count": 41,
   "id": "e6b69345-b0c2-4e8f-89c4-506a37115429",
   "metadata": {},
   "outputs": [
    {
     "data": {
      "text/plain": [
       "'hellohellohello'"
      ]
     },
     "execution_count": 41,
     "metadata": {},
     "output_type": "execute_result"
    }
   ],
   "source": [
    "s2*3"
   ]
  },
  {
   "cell_type": "code",
   "execution_count": 42,
   "id": "3178b4ac-01b9-4e19-8ff8-39664a5bacac",
   "metadata": {},
   "outputs": [
    {
     "ename": "TypeError",
     "evalue": "unsupported operand type(s) for /: 'str' and 'int'",
     "output_type": "error",
     "traceback": [
      "\u001b[0;31m---------------------------------------------------------------------------\u001b[0m",
      "\u001b[0;31mTypeError\u001b[0m                                 Traceback (most recent call last)",
      "Cell \u001b[0;32mIn [42], line 1\u001b[0m\n\u001b[0;32m----> 1\u001b[0m \u001b[43ms2\u001b[49m\u001b[38;5;241;43m/\u001b[39;49m\u001b[38;5;241;43m4\u001b[39;49m\n",
      "\u001b[0;31mTypeError\u001b[0m: unsupported operand type(s) for /: 'str' and 'int'"
     ]
    }
   ],
   "source": [
    "s2/4"
   ]
  },
  {
   "cell_type": "code",
   "execution_count": null,
   "id": "d6acd2e0-3c01-4a82-acd5-753752f42246",
   "metadata": {},
   "outputs": [],
   "source": []
  }
 ],
 "metadata": {
  "kernelspec": {
   "display_name": "Python 3 (ipykernel)",
   "language": "python",
   "name": "python3"
  },
  "language_info": {
   "codemirror_mode": {
    "name": "ipython",
    "version": 3
   },
   "file_extension": ".py",
   "mimetype": "text/x-python",
   "name": "python",
   "nbconvert_exporter": "python",
   "pygments_lexer": "ipython3",
   "version": "3.10.6"
  }
 },
 "nbformat": 4,
 "nbformat_minor": 5
}
