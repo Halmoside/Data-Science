{
 "cells": [
  {
   "cell_type": "code",
   "execution_count": 1,
   "id": "84fe2bb2-3c67-44af-b2ca-defefc6da26e",
   "metadata": {},
   "outputs": [],
   "source": [
    "d ={}"
   ]
  },
  {
   "cell_type": "code",
   "execution_count": 2,
   "id": "afa51eb4-d050-4fe6-84b4-d2773aec6a81",
   "metadata": {},
   "outputs": [
    {
     "data": {
      "text/plain": [
       "dict"
      ]
     },
     "execution_count": 2,
     "metadata": {},
     "output_type": "execute_result"
    }
   ],
   "source": [
    "type(d)"
   ]
  },
  {
   "cell_type": "code",
   "execution_count": 6,
   "id": "cbe2f7da-604f-4dd7-82b9-10e36f748a9b",
   "metadata": {},
   "outputs": [],
   "source": [
    "d1 = {'key' : \"haseeb\"}"
   ]
  },
  {
   "cell_type": "code",
   "execution_count": 7,
   "id": "f14ab75e-4b41-4849-a9bd-ca70b4821ef5",
   "metadata": {},
   "outputs": [
    {
     "data": {
      "text/plain": [
       "{'key': 'haseeb'}"
      ]
     },
     "execution_count": 7,
     "metadata": {},
     "output_type": "execute_result"
    }
   ],
   "source": [
    "d1"
   ]
  },
  {
   "cell_type": "code",
   "execution_count": 15,
   "id": "c447bf2c-2663-4602-abd1-23759c842e00",
   "metadata": {},
   "outputs": [],
   "source": [
    "d2 = {'name' : \"haseeb ahmed\", \"email\" : \"abc@gail.com\", \"number\" : \"32524262772\"}"
   ]
  },
  {
   "cell_type": "code",
   "execution_count": 16,
   "id": "83216073-5d1e-4932-9aab-967bd7c213e9",
   "metadata": {},
   "outputs": [
    {
     "data": {
      "text/plain": [
       "{'name': 'haseeb ahmed', 'email': 'abc@gail.com', 'number': '32524262772'}"
      ]
     },
     "execution_count": 16,
     "metadata": {},
     "output_type": "execute_result"
    }
   ],
   "source": [
    "d2"
   ]
  },
  {
   "cell_type": "code",
   "execution_count": 28,
   "id": "26b96def-cee4-4eab-91a0-97e35e7854dc",
   "metadata": {},
   "outputs": [],
   "source": [
    "d3 = {234 : \"haseeb\", True :3465}"
   ]
  },
  {
   "cell_type": "code",
   "execution_count": 27,
   "id": "e3ef4d9a-2bcb-40ac-915c-59a12e221a0f",
   "metadata": {},
   "outputs": [
    {
     "data": {
      "text/plain": [
       "{234: 'haseeb'}"
      ]
     },
     "execution_count": 27,
     "metadata": {},
     "output_type": "execute_result"
    }
   ],
   "source": [
    "d3"
   ]
  },
  {
   "cell_type": "code",
   "execution_count": 21,
   "id": "ce0b7a81-d72c-45b7-9222-51b9c6d03a18",
   "metadata": {},
   "outputs": [
    {
     "data": {
      "text/plain": [
       "'haseeb'"
      ]
     },
     "execution_count": 21,
     "metadata": {},
     "output_type": "execute_result"
    }
   ],
   "source": [
    "d3[234]"
   ]
  },
  {
   "cell_type": "code",
   "execution_count": 30,
   "id": "94d43144-f148-47e2-98c4-74c3a6bf0db9",
   "metadata": {},
   "outputs": [
    {
     "data": {
      "text/plain": [
       "34652426"
      ]
     },
     "execution_count": 30,
     "metadata": {},
     "output_type": "execute_result"
    }
   ],
   "source": [
    "d3[1]"
   ]
  },
  {
   "cell_type": "code",
   "execution_count": 31,
   "id": "2cb25b50-1e6b-4f1b-abab-750cd9dfc4d0",
   "metadata": {},
   "outputs": [],
   "source": [
    "d4 = {'name' : \"haseeb\", 'mailid' : \"has@gmail.com\", 'name' : \"harry\"}"
   ]
  },
  {
   "cell_type": "code",
   "execution_count": 33,
   "id": "14dbce28-f8ee-4aa6-b22f-ecfafa7469c8",
   "metadata": {},
   "outputs": [
    {
     "data": {
      "text/plain": [
       "'harry'"
      ]
     },
     "execution_count": 33,
     "metadata": {},
     "output_type": "execute_result"
    }
   ],
   "source": [
    "d4['name']"
   ]
  },
  {
   "cell_type": "code",
   "execution_count": 35,
   "id": "3b40090b-e138-4cbf-bc0f-98fa481aaa84",
   "metadata": {},
   "outputs": [],
   "source": [
    "d5 = {'company' : \"physics wallah\", 'courses' : [\"web dev\", \"data science\", \"java with dsa\"]}"
   ]
  },
  {
   "cell_type": "code",
   "execution_count": 37,
   "id": "0a8e56b8-f8f5-4cb3-b8ae-53627ee7e15d",
   "metadata": {},
   "outputs": [
    {
     "data": {
      "text/plain": [
       "{'company': 'physics wallah',\n",
       " 'courses': ['web dev', 'data science', 'java with dsa']}"
      ]
     },
     "execution_count": 37,
     "metadata": {},
     "output_type": "execute_result"
    }
   ],
   "source": [
    "d5"
   ]
  },
  {
   "cell_type": "code",
   "execution_count": 38,
   "id": "42509aa8-ef89-4f1d-b7b6-93ee9b9d3734",
   "metadata": {},
   "outputs": [
    {
     "data": {
      "text/plain": [
       "['web dev', 'data science', 'java with dsa']"
      ]
     },
     "execution_count": 38,
     "metadata": {},
     "output_type": "execute_result"
    }
   ],
   "source": [
    "d5['courses']"
   ]
  },
  {
   "cell_type": "code",
   "execution_count": 39,
   "id": "909d6d38-4af9-4eaf-900c-dfc1a591c779",
   "metadata": {},
   "outputs": [
    {
     "data": {
      "text/plain": [
       "'data science'"
      ]
     },
     "execution_count": 39,
     "metadata": {},
     "output_type": "execute_result"
    }
   ],
   "source": [
    "d5['courses'][1]"
   ]
  },
  {
   "cell_type": "code",
   "execution_count": 2,
   "id": "4f66094b-ef3b-466e-8cff-5e2424ed2a53",
   "metadata": {},
   "outputs": [],
   "source": [
    "d6 = {'number' : [2,4,5,6,7,8] , 'assignment' : (1,2,3,4,5), 'launch_date' : {23,12,15}}"
   ]
  },
  {
   "cell_type": "code",
   "execution_count": 3,
   "id": "433c5fbb-3ca7-4c76-82a3-cd907a9f6f2e",
   "metadata": {},
   "outputs": [
    {
     "data": {
      "text/plain": [
       "{'number': [2, 4, 5, 6, 7, 8],\n",
       " 'assignment': (1, 2, 3, 4, 5),\n",
       " 'launch_date': {12, 15, 23}}"
      ]
     },
     "execution_count": 3,
     "metadata": {},
     "output_type": "execute_result"
    }
   ],
   "source": [
    "d6"
   ]
  },
  {
   "cell_type": "code",
   "execution_count": 8,
   "id": "3a0ef507-67d6-4175-b3c5-238263bb2f90",
   "metadata": {},
   "outputs": [],
   "source": [
    "d6[\"mentor\"] = [\"sudhanshu\", \"krish\", \"anurag\", \"haider\"]"
   ]
  },
  {
   "cell_type": "code",
   "execution_count": 9,
   "id": "23cd1d47-f56a-472c-938a-9b8f59e6111f",
   "metadata": {},
   "outputs": [
    {
     "data": {
      "text/plain": [
       "{'number': [2, 4, 5, 6, 7, 8],\n",
       " 'assignment': (1, 2, 3, 4, 5),\n",
       " 'launch_date': {12, 15, 23},\n",
       " 'mentor': ['sudhanshu', 'krish', 'anurag', 'haider']}"
      ]
     },
     "execution_count": 9,
     "metadata": {},
     "output_type": "execute_result"
    }
   ],
   "source": [
    "d6"
   ]
  },
  {
   "cell_type": "code",
   "execution_count": 10,
   "id": "6a3fe05b-e8d9-46ea-a2d7-81387acafea5",
   "metadata": {},
   "outputs": [],
   "source": [
    "del d6['assignment']"
   ]
  },
  {
   "cell_type": "code",
   "execution_count": 11,
   "id": "886aaddb-a198-41b4-9092-2b1e2823e4bf",
   "metadata": {},
   "outputs": [
    {
     "data": {
      "text/plain": [
       "{'number': [2, 4, 5, 6, 7, 8],\n",
       " 'launch_date': {12, 15, 23},\n",
       " 'mentor': ['sudhanshu', 'krish', 'anurag', 'haider']}"
      ]
     },
     "execution_count": 11,
     "metadata": {},
     "output_type": "execute_result"
    }
   ],
   "source": [
    "d6"
   ]
  },
  {
   "cell_type": "code",
   "execution_count": 12,
   "id": "7c7c91dd-b0ec-45f4-a640-86508490431c",
   "metadata": {},
   "outputs": [
    {
     "data": {
      "text/plain": [
       "dict_keys(['number', 'launch_date', 'mentor'])"
      ]
     },
     "execution_count": 12,
     "metadata": {},
     "output_type": "execute_result"
    }
   ],
   "source": [
    "d6.keys()"
   ]
  },
  {
   "cell_type": "code",
   "execution_count": 13,
   "id": "7edc3994-3e77-4928-bea8-353bb6d5d9cb",
   "metadata": {},
   "outputs": [
    {
     "data": {
      "text/plain": [
       "dict_values([[2, 4, 5, 6, 7, 8], {12, 23, 15}, ['sudhanshu', 'krish', 'anurag', 'haider']])"
      ]
     },
     "execution_count": 13,
     "metadata": {},
     "output_type": "execute_result"
    }
   ],
   "source": [
    "d6.values()"
   ]
  },
  {
   "cell_type": "code",
   "execution_count": 14,
   "id": "27974c4f-d57d-4446-b826-af01125ac23a",
   "metadata": {},
   "outputs": [
    {
     "data": {
      "text/plain": [
       "[[2, 4, 5, 6, 7, 8], {12, 15, 23}, ['sudhanshu', 'krish', 'anurag', 'haider']]"
      ]
     },
     "execution_count": 14,
     "metadata": {},
     "output_type": "execute_result"
    }
   ],
   "source": [
    "list(d6.values())"
   ]
  },
  {
   "cell_type": "code",
   "execution_count": 15,
   "id": "16b5cf2b-7231-4e93-8ce2-ee7940e5a4a5",
   "metadata": {},
   "outputs": [
    {
     "data": {
      "text/plain": [
       "([2, 4, 5, 6, 7, 8], {12, 15, 23}, ['sudhanshu', 'krish', 'anurag', 'haider'])"
      ]
     },
     "execution_count": 15,
     "metadata": {},
     "output_type": "execute_result"
    }
   ],
   "source": [
    "tuple(d6.values())"
   ]
  },
  {
   "cell_type": "code",
   "execution_count": 16,
   "id": "fa7f6341-0645-4311-935f-f76e545fe747",
   "metadata": {},
   "outputs": [
    {
     "data": {
      "text/plain": [
       "[2, 4, 5, 6, 7, 8]"
      ]
     },
     "execution_count": 16,
     "metadata": {},
     "output_type": "execute_result"
    }
   ],
   "source": [
    "d6.pop('number')"
   ]
  },
  {
   "cell_type": "code",
   "execution_count": 17,
   "id": "191907c6-6090-4553-83fc-d18ca3bc6ed6",
   "metadata": {},
   "outputs": [
    {
     "data": {
      "text/plain": [
       "{'launch_date': {12, 15, 23},\n",
       " 'mentor': ['sudhanshu', 'krish', 'anurag', 'haider']}"
      ]
     },
     "execution_count": 17,
     "metadata": {},
     "output_type": "execute_result"
    }
   ],
   "source": [
    "d6"
   ]
  },
  {
   "cell_type": "code",
   "execution_count": 18,
   "id": "eebcdda5-929a-4d8a-8a79-874333dcfb77",
   "metadata": {},
   "outputs": [
    {
     "ename": "TypeError",
     "evalue": "pop expected at least 1 argument, got 0",
     "output_type": "error",
     "traceback": [
      "\u001b[0;31m---------------------------------------------------------------------------\u001b[0m",
      "\u001b[0;31mTypeError\u001b[0m                                 Traceback (most recent call last)",
      "Cell \u001b[0;32mIn [18], line 1\u001b[0m\n\u001b[0;32m----> 1\u001b[0m \u001b[43md6\u001b[49m\u001b[38;5;241;43m.\u001b[39;49m\u001b[43mpop\u001b[49m\u001b[43m(\u001b[49m\u001b[43m)\u001b[49m\n",
      "\u001b[0;31mTypeError\u001b[0m: pop expected at least 1 argument, got 0"
     ]
    }
   ],
   "source": [
    "d6.pop()"
   ]
  },
  {
   "cell_type": "code",
   "execution_count": 20,
   "id": "455e3c4f-e6b0-4264-a402-12479d80b562",
   "metadata": {},
   "outputs": [
    {
     "name": "stdout",
     "output_type": "stream",
     "text": [
      "you will be a part of A0 batch\n"
     ]
    }
   ],
   "source": [
    "marks = 95  ## Hard code value\n",
    "if marks >= 80 :\n",
    "    print(\"you will be a part of A0 batch\")\n",
    "elif marks >= 60 and marks< 80 :\n",
    "    print(\"you will be a part of A1 batch\") \n",
    "elif marks >= 40 and marks< 60 :\n",
    "    print(\"you will be a part of A2 batch\")\n",
    "else :\n",
    "    print(\"you will be a part of A3 batch\")    \n",
    "        \n",
    "        \n",
    "    "
   ]
  },
  {
   "cell_type": "code",
   "execution_count": 21,
   "id": "1f91fdaa-df39-42f8-ab56-17e75e417674",
   "metadata": {},
   "outputs": [
    {
     "name": "stdin",
     "output_type": "stream",
     "text": [
      "Enter your input 36\n"
     ]
    },
    {
     "name": "stdout",
     "output_type": "stream",
     "text": [
      "you will be a part of A3 batch\n"
     ]
    }
   ],
   "source": [
    "marks = int(input(\"enter the marks\")) ## Taking user input\n",
    "if marks >= 80 :\n",
    "    print(\"you will be a part of A0 batch\")\n",
    "elif marks >= 60 and marks< 80 :\n",
    "    print(\"you will be a part of A1 batch\") \n",
    "elif marks >= 40 and marks< 60 :\n",
    "    print(\"you will be a part of A2 batch\")\n",
    "else :\n",
    "    print(\"you will be a part of A3 batch\")    \n",
    "        "
   ]
  },
  {
   "cell_type": "code",
   "execution_count": 24,
   "id": "e5814906-1474-403c-bb83-e5a8db9f612e",
   "metadata": {},
   "outputs": [
    {
     "name": "stdin",
     "output_type": "stream",
     "text": [
      "enter the amount 1200\n"
     ]
    },
    {
     "name": "stdout",
     "output_type": "stream",
     "text": [
      "i will not purchase\n"
     ]
    }
   ],
   "source": [
    "price = int(input(\"enter the amount\"))\n",
    "if price > 1000 :\n",
    "    print(\"i will not purchase\")\n",
    "else :\n",
    "    print(\"i will purchase\")"
   ]
  },
  {
   "cell_type": "code",
   "execution_count": 27,
   "id": "96f6ae9d-ee10-437e-84c2-2120bed45652",
   "metadata": {},
   "outputs": [
    {
     "name": "stdin",
     "output_type": "stream",
     "text": [
      "enter the amount 7000\n"
     ]
    },
    {
     "name": "stdout",
     "output_type": "stream",
     "text": [
      "i will not purchase\n",
      "too much money\n"
     ]
    }
   ],
   "source": [
    "price = int(input(\"enter the amount\"))\n",
    "if price > 1000 :\n",
    "    print(\"i will not purchase\")\n",
    "if price > 5000 :\n",
    "        print(\"too much money\")\n",
    "else :\n",
    "    print(\"i will purchase\")"
   ]
  },
  {
   "cell_type": "code",
   "execution_count": 28,
   "id": "c9186be5-7493-4328-8c58-7b3d51fd09a6",
   "metadata": {},
   "outputs": [],
   "source": [
    "l = [2,3,4,5,6,7,8]"
   ]
  },
  {
   "cell_type": "code",
   "execution_count": 33,
   "id": "1ca5a505-4037-49d0-af24-1d06210a6bbc",
   "metadata": {},
   "outputs": [
    {
     "name": "stdout",
     "output_type": "stream",
     "text": [
      "3\n",
      "4\n",
      "5\n",
      "6\n",
      "7\n",
      "8\n",
      "9\n"
     ]
    },
    {
     "data": {
      "text/plain": [
       "[3, 4, 5, 6, 7, 8, 9]"
      ]
     },
     "execution_count": 33,
     "metadata": {},
     "output_type": "execute_result"
    }
   ],
   "source": [
    "l1 = []\n",
    "for  i in l :\n",
    "    print(i+1)\n",
    "    l1.append(i+1)\n",
    "l1"
   ]
  },
  {
   "cell_type": "code",
   "execution_count": 34,
   "id": "85283b67-6d40-4a54-a303-7c688cfc6b40",
   "metadata": {},
   "outputs": [
    {
     "data": {
      "text/plain": [
       "[2, 3, 4, 5, 6, 7, 8]"
      ]
     },
     "execution_count": 34,
     "metadata": {},
     "output_type": "execute_result"
    }
   ],
   "source": [
    "l"
   ]
  },
  {
   "cell_type": "code",
   "execution_count": 35,
   "id": "9c2e0d79-6999-4e6e-af84-50e4bc3d400a",
   "metadata": {},
   "outputs": [
    {
     "data": {
      "text/plain": [
       "[3, 4, 5, 6, 7, 8, 9]"
      ]
     },
     "execution_count": 35,
     "metadata": {},
     "output_type": "execute_result"
    }
   ],
   "source": [
    "l1"
   ]
  },
  {
   "cell_type": "code",
   "execution_count": 36,
   "id": "86712111-226b-433a-869a-fc6edef99d70",
   "metadata": {},
   "outputs": [],
   "source": [
    "l = [\"haseeb\", \"ahmed\", \"pwskills\", \"course\"]"
   ]
  },
  {
   "cell_type": "code",
   "execution_count": 42,
   "id": "3dce95e6-4b09-4d8a-959d-5a94fd8b947f",
   "metadata": {},
   "outputs": [
    {
     "name": "stdout",
     "output_type": "stream",
     "text": [
      "haseeb\n",
      "ahmed\n",
      "pwskills\n",
      "course\n"
     ]
    }
   ],
   "source": [
    "l1 = []\n",
    "for i in l :\n",
    "    print(i)\n",
    "    l1.append(i.upper())"
   ]
  },
  {
   "cell_type": "code",
   "execution_count": 43,
   "id": "afea7a88-7bdf-4373-bd6e-d6717c8c0f32",
   "metadata": {},
   "outputs": [
    {
     "data": {
      "text/plain": [
       "['HASEEB', 'AHMED', 'PWSKILLS', 'COURSE']"
      ]
     },
     "execution_count": 43,
     "metadata": {},
     "output_type": "execute_result"
    }
   ],
   "source": [
    "l1"
   ]
  },
  {
   "cell_type": "code",
   "execution_count": 44,
   "id": "5268abbf-adb2-4f7b-a99e-98cbc1bd3a29",
   "metadata": {},
   "outputs": [],
   "source": [
    "l = [3,68,6,3,9,6, \"harry\" , \"ahmed\" , 34.56]"
   ]
  },
  {
   "cell_type": "code",
   "execution_count": 50,
   "id": "403919cc-7984-4423-8bf6-0d4720816cce",
   "metadata": {},
   "outputs": [],
   "source": [
    "l1_num = []\n",
    "l2_str = []\n",
    "for i in l :\n",
    "    if type(i) == int or type(i) == float :\n",
    "        l1_num.append(i)\n",
    "    else :\n",
    "        l2_str.append(i)"
   ]
  },
  {
   "cell_type": "code",
   "execution_count": 51,
   "id": "832f24f7-0ec2-4668-9757-421c6763dd21",
   "metadata": {},
   "outputs": [
    {
     "data": {
      "text/plain": [
       "[3, 68, 6, 3, 9, 6, 34.56]"
      ]
     },
     "execution_count": 51,
     "metadata": {},
     "output_type": "execute_result"
    }
   ],
   "source": [
    "l1_num"
   ]
  },
  {
   "cell_type": "code",
   "execution_count": 52,
   "id": "8f60c7ac-8c68-459f-8581-3d51fc56aaee",
   "metadata": {},
   "outputs": [
    {
     "data": {
      "text/plain": [
       "['harry', 'ahmed']"
      ]
     },
     "execution_count": 52,
     "metadata": {},
     "output_type": "execute_result"
    }
   ],
   "source": [
    "l2_str"
   ]
  },
  {
   "cell_type": "code",
   "execution_count": 1,
   "id": "a88e998f-9edb-409e-a593-4b03196b6143",
   "metadata": {},
   "outputs": [],
   "source": [
    "l3 = [\"abc\", \"vcb\", \"bvb\"]"
   ]
  },
  {
   "cell_type": "code",
   "execution_count": 2,
   "id": "51fa10ef-090d-4edd-aeec-b2d4a18c0d67",
   "metadata": {},
   "outputs": [
    {
     "data": {
      "text/plain": [
       "['abc', 'vcb', 'bvb']"
      ]
     },
     "execution_count": 2,
     "metadata": {},
     "output_type": "execute_result"
    }
   ],
   "source": [
    "l3"
   ]
  },
  {
   "cell_type": "code",
   "execution_count": 4,
   "id": "93c5743a-7ac5-4a32-87e8-25d78675538a",
   "metadata": {},
   "outputs": [
    {
     "name": "stdout",
     "output_type": "stream",
     "text": [
      "abc\n",
      "vcb\n",
      "bvb\n",
      "Wrong Entry\n"
     ]
    }
   ],
   "source": [
    "## For With Else\n",
    "for i in l3 : ## Yaha pr else tbhi execute hoga jb if statement poora execute hoga\n",
    "    print(i)\n",
    "else :\n",
    "    print(\"Wrong Entry\")"
   ]
  },
  {
   "cell_type": "code",
   "execution_count": 7,
   "id": "e66a0133-0f3d-42f3-b910-defb5487f9f1",
   "metadata": {},
   "outputs": [
    {
     "name": "stdout",
     "output_type": "stream",
     "text": [
      "abc\n"
     ]
    }
   ],
   "source": [
    "## Break statement in python\n",
    "for i in l3 :\n",
    "    if i == \"vcb\" :\n",
    "        break\n",
    "    print(i)"
   ]
  },
  {
   "cell_type": "code",
   "execution_count": 8,
   "id": "a964bcf7-2776-4b7b-bd62-128c24545cf9",
   "metadata": {},
   "outputs": [
    {
     "data": {
      "text/plain": [
       "['abc', 'vcb', 'bvb']"
      ]
     },
     "execution_count": 8,
     "metadata": {},
     "output_type": "execute_result"
    }
   ],
   "source": [
    "l3"
   ]
  },
  {
   "cell_type": "code",
   "execution_count": 19,
   "id": "229627d1-2f94-4508-9015-69cb8b130e92",
   "metadata": {},
   "outputs": [
    {
     "name": "stdout",
     "output_type": "stream",
     "text": [
      "abc\n"
     ]
    }
   ],
   "source": [
    "## Break statement with if and else\n",
    "for i in l3 :\n",
    "    if i == \"vcb\" :\n",
    "        break\n",
    "    print(i)\n",
    "else :\n",
    "    print(\"Execute this if for loop is executed full\")"
   ]
  },
  {
   "cell_type": "code",
   "execution_count": 21,
   "id": "918208f9-ec7e-4bff-a564-88fd8f8b8bcb",
   "metadata": {},
   "outputs": [
    {
     "name": "stdout",
     "output_type": "stream",
     "text": [
      "abc\n",
      "vcb\n",
      "bvb\n",
      "Execute this if for loop is executed full\n"
     ]
    }
   ],
   "source": [
    "for i in l3 :\n",
    "    if i == \"aaa\" :\n",
    "        break\n",
    "    print(i)\n",
    "else :\n",
    "    print(\"Execute this if for loop is executed full\")"
   ]
  },
  {
   "cell_type": "code",
   "execution_count": 22,
   "id": "635f9b8e-9605-4bc1-9ba2-df38fa33f953",
   "metadata": {},
   "outputs": [
    {
     "data": {
      "text/plain": [
       "['abc', 'vcb', 'bvb']"
      ]
     },
     "execution_count": 22,
     "metadata": {},
     "output_type": "execute_result"
    }
   ],
   "source": [
    "l3"
   ]
  },
  {
   "cell_type": "code",
   "execution_count": null,
   "id": "47267052-cccc-45a9-a1c4-8a29b744fc7e",
   "metadata": {},
   "outputs": [],
   "source": []
  },
  {
   "cell_type": "raw",
   "id": "e4c595fb-8f0e-4eb7-86b9-e13e9d473bc8",
   "metadata": {},
   "source": [
    "## Continue Statement \n",
    "for i in l3 :\n",
    "    if i == \"vcb\" :\n",
    "        continue\n",
    "    print(i)    "
   ]
  },
  {
   "cell_type": "code",
   "execution_count": 24,
   "id": "c1c4d8f0-66ab-460c-bb63-06b9333f0ef4",
   "metadata": {},
   "outputs": [
    {
     "name": "stdout",
     "output_type": "stream",
     "text": [
      "abc\n",
      "bvb\n",
      "Execute this if for loop is executed full\n"
     ]
    }
   ],
   "source": [
    "## Continue ststement with if and else \n",
    "for i in l3 :\n",
    "    if i == \"vcb\" :\n",
    "        continue\n",
    "    print(i)\n",
    "else :\n",
    "    print(\"Execute this if for loop is executed full\")"
   ]
  },
  {
   "cell_type": "code",
   "execution_count": 25,
   "id": "7e25af1a-1b29-48bc-a557-aa0b18303d8d",
   "metadata": {},
   "outputs": [
    {
     "data": {
      "text/plain": [
       "range(0, 5)"
      ]
     },
     "execution_count": 25,
     "metadata": {},
     "output_type": "execute_result"
    }
   ],
   "source": [
    "# Range Function\n",
    "range(5)"
   ]
  },
  {
   "cell_type": "code",
   "execution_count": 26,
   "id": "2f57ff93-50bc-4eeb-82bb-5030123e8438",
   "metadata": {},
   "outputs": [
    {
     "data": {
      "text/plain": [
       "[0, 1, 2, 3, 4]"
      ]
     },
     "execution_count": 26,
     "metadata": {},
     "output_type": "execute_result"
    }
   ],
   "source": [
    "# Range Function with list concatination\n",
    "list(range(5))"
   ]
  },
  {
   "cell_type": "code",
   "execution_count": 27,
   "id": "4072a5ea-649f-4143-b3f4-224de5056148",
   "metadata": {},
   "outputs": [
    {
     "data": {
      "text/plain": [
       "[0, 2, 4]"
      ]
     },
     "execution_count": 27,
     "metadata": {},
     "output_type": "execute_result"
    }
   ],
   "source": [
    "list(range(0,5,2))"
   ]
  },
  {
   "cell_type": "code",
   "execution_count": 30,
   "id": "c9ef6d15-0223-4720-b9e1-7de03fe3f365",
   "metadata": {},
   "outputs": [
    {
     "data": {
      "text/plain": [
       "range(0, 10)"
      ]
     },
     "execution_count": 30,
     "metadata": {},
     "output_type": "execute_result"
    }
   ],
   "source": [
    "range(10)"
   ]
  },
  {
   "cell_type": "code",
   "execution_count": 31,
   "id": "e4485421-f049-4579-8e44-e01be89e8654",
   "metadata": {},
   "outputs": [
    {
     "data": {
      "text/plain": [
       "[0, 1, 2, 3, 4, 5, 6, 7, 8, 9]"
      ]
     },
     "execution_count": 31,
     "metadata": {},
     "output_type": "execute_result"
    }
   ],
   "source": [
    "list(range(10))"
   ]
  },
  {
   "cell_type": "code",
   "execution_count": 32,
   "id": "9c8bb363-9ac5-42db-be55-916323282ee5",
   "metadata": {},
   "outputs": [
    {
     "data": {
      "text/plain": [
       "[-10, -9, -8, -7, -6, -5, -4, -3, -2, -1]"
      ]
     },
     "execution_count": 32,
     "metadata": {},
     "output_type": "execute_result"
    }
   ],
   "source": [
    "list(range(-10,0))"
   ]
  },
  {
   "cell_type": "code",
   "execution_count": 33,
   "id": "b0122b6f-bb1c-4642-9fe2-0bf5249dfbaf",
   "metadata": {},
   "outputs": [],
   "source": [
    "l4 = \"haseeb\", \"ahmed\", \"pwskills\", \"coder\""
   ]
  },
  {
   "cell_type": "code",
   "execution_count": 34,
   "id": "a4a246ff-d422-452f-a6d5-5137910cb0de",
   "metadata": {},
   "outputs": [
    {
     "data": {
      "text/plain": [
       "('haseeb', 'ahmed', 'pwskills', 'coder')"
      ]
     },
     "execution_count": 34,
     "metadata": {},
     "output_type": "execute_result"
    }
   ],
   "source": [
    "l4"
   ]
  },
  {
   "cell_type": "code",
   "execution_count": 36,
   "id": "d513b4b6-51a1-44dd-90c6-42662710ddb0",
   "metadata": {},
   "outputs": [
    {
     "data": {
      "text/plain": [
       "[0, 1, 2, 3]"
      ]
     },
     "execution_count": 36,
     "metadata": {},
     "output_type": "execute_result"
    }
   ],
   "source": [
    "list(range(len(l4)))"
   ]
  },
  {
   "cell_type": "code",
   "execution_count": 37,
   "id": "fcd63207-e42e-4be4-a442-6d90d678ca33",
   "metadata": {},
   "outputs": [
    {
     "name": "stdout",
     "output_type": "stream",
     "text": [
      "haseeb\n",
      "ahmed\n",
      "pwskills\n",
      "coder\n"
     ]
    }
   ],
   "source": [
    "## For loop with range function\n",
    "for i in range(len(l4)) :\n",
    "    print(l4[i])"
   ]
  },
  {
   "cell_type": "code",
   "execution_count": 38,
   "id": "de464817-f4e8-4530-99c2-1e3a9d0ff241",
   "metadata": {},
   "outputs": [
    {
     "data": {
      "text/plain": [
       "4"
      ]
     },
     "execution_count": 38,
     "metadata": {},
     "output_type": "execute_result"
    }
   ],
   "source": [
    "len(l4)"
   ]
  },
  {
   "cell_type": "code",
   "execution_count": 44,
   "id": "053cb856-457b-47f3-8c6f-95e41ddcae98",
   "metadata": {},
   "outputs": [
    {
     "data": {
      "text/plain": [
       "[3, 2, 1, 0]"
      ]
     },
     "execution_count": 44,
     "metadata": {},
     "output_type": "execute_result"
    }
   ],
   "source": [
    "list(range(len(l4)-1,-1,-1))"
   ]
  },
  {
   "cell_type": "code",
   "execution_count": 45,
   "id": "b6d09df0-5380-49a7-9ea4-ca3081304752",
   "metadata": {},
   "outputs": [
    {
     "name": "stdout",
     "output_type": "stream",
     "text": [
      "coder\n",
      "pwskills\n",
      "ahmed\n",
      "haseeb\n"
     ]
    }
   ],
   "source": [
    "## For loop with range function printing in a reverse order .\n",
    "for i in range(len(l4)-1,-1,-1):\n",
    "    print(l4[i])"
   ]
  },
  {
   "cell_type": "code",
   "execution_count": 46,
   "id": "8298d256-84e7-4372-973c-99c3f931304d",
   "metadata": {},
   "outputs": [],
   "source": [
    "l = [23,7,8,4,64,74,81,67,66,4,2,8,6,56,98,77]"
   ]
  },
  {
   "cell_type": "code",
   "execution_count": 47,
   "id": "ccbebd1d-0ac3-4fe9-846b-aec41059b0cc",
   "metadata": {},
   "outputs": [
    {
     "data": {
      "text/plain": [
       "[0, 2, 4, 6, 8, 10, 12, 14]"
      ]
     },
     "execution_count": 47,
     "metadata": {},
     "output_type": "execute_result"
    }
   ],
   "source": [
    "list(range(0 , len(l) , 2))"
   ]
  },
  {
   "cell_type": "code",
   "execution_count": 49,
   "id": "1edbf736-9ca1-4a47-b700-9ea65cc839e7",
   "metadata": {},
   "outputs": [
    {
     "name": "stdout",
     "output_type": "stream",
     "text": [
      "23\n",
      "8\n",
      "64\n",
      "81\n",
      "66\n",
      "2\n",
      "6\n",
      "98\n"
     ]
    }
   ],
   "source": [
    "for i in range(0 , len(l) , 2)  :\n",
    "    print(l[i])"
   ]
  },
  {
   "cell_type": "code",
   "execution_count": 50,
   "id": "45a8009c-e2e3-4a0c-b76b-996cc9ee9412",
   "metadata": {},
   "outputs": [],
   "source": [
    "l1 = [2,4,5,6,7,8,9,10,12,14]"
   ]
  },
  {
   "cell_type": "code",
   "execution_count": 51,
   "id": "19f4ec12-f601-4768-9fbd-1bd4451b896d",
   "metadata": {},
   "outputs": [
    {
     "data": {
      "text/plain": [
       "77"
      ]
     },
     "execution_count": 51,
     "metadata": {},
     "output_type": "execute_result"
    }
   ],
   "source": [
    "sum(l1)"
   ]
  },
  {
   "cell_type": "code",
   "execution_count": 68,
   "id": "3bc7a007-3c9a-4b37-b1e8-9d0d9f060afb",
   "metadata": {},
   "outputs": [
    {
     "data": {
      "text/plain": [
       "77"
      ]
     },
     "execution_count": 68,
     "metadata": {},
     "output_type": "execute_result"
    }
   ],
   "source": [
    "result = 0\n",
    "for i in l1 :\n",
    "    result = result + i\n",
    "result"
   ]
  },
  {
   "cell_type": "code",
   "execution_count": 3,
   "id": "02eb25bc-2e50-40d8-8a63-124b245dc513",
   "metadata": {},
   "outputs": [],
   "source": [
    "t = (2,5,7,9,8,5)"
   ]
  },
  {
   "cell_type": "code",
   "execution_count": 4,
   "id": "6f756dfa-6800-4fe9-b7a5-dd7c7993bfc4",
   "metadata": {},
   "outputs": [
    {
     "data": {
      "text/plain": [
       "(2, 5, 7, 9, 8, 5)"
      ]
     },
     "execution_count": 4,
     "metadata": {},
     "output_type": "execute_result"
    }
   ],
   "source": [
    "t"
   ]
  },
  {
   "cell_type": "code",
   "execution_count": 5,
   "id": "88f86c3c-a812-4016-a2cb-f6e421331e61",
   "metadata": {},
   "outputs": [
    {
     "name": "stdout",
     "output_type": "stream",
     "text": [
      "2\n",
      "5\n",
      "7\n",
      "9\n",
      "8\n",
      "5\n"
     ]
    }
   ],
   "source": [
    "for i in t :\n",
    "    print(i)"
   ]
  },
  {
   "cell_type": "code",
   "execution_count": 6,
   "id": "ec25ffea-08c6-43e3-bead-4eaf0e257e46",
   "metadata": {},
   "outputs": [
    {
     "data": {
      "text/plain": [
       "36"
      ]
     },
     "execution_count": 6,
     "metadata": {},
     "output_type": "execute_result"
    }
   ],
   "source": [
    "sum = 0\n",
    "for i in t :\n",
    "    sum = sum + i\n",
    "sum"
   ]
  },
  {
   "cell_type": "code",
   "execution_count": 7,
   "id": "7698a115-5640-43c2-82f0-81283a0d65ca",
   "metadata": {},
   "outputs": [],
   "source": [
    "s = {3,8,0,5,7, \"haseeb\" , \"coder\"}"
   ]
  },
  {
   "cell_type": "code",
   "execution_count": 8,
   "id": "a8499eb3-b0c3-4182-8625-29a49c9bbb76",
   "metadata": {},
   "outputs": [
    {
     "data": {
      "text/plain": [
       "{0, 3, 5, 7, 8, 'coder', 'haseeb'}"
      ]
     },
     "execution_count": 8,
     "metadata": {},
     "output_type": "execute_result"
    }
   ],
   "source": [
    "s"
   ]
  },
  {
   "cell_type": "code",
   "execution_count": 9,
   "id": "85cf5712-7682-454c-957c-8d32674a3cb0",
   "metadata": {},
   "outputs": [
    {
     "name": "stdout",
     "output_type": "stream",
     "text": [
      "0\n",
      "3\n",
      "coder\n",
      "5\n",
      "7\n",
      "8\n",
      "haseeb\n"
     ]
    }
   ],
   "source": [
    "for i in s :\n",
    "    print(i)"
   ]
  },
  {
   "cell_type": "code",
   "execution_count": 10,
   "id": "2e56d8ff-9641-4ec7-a857-7903b894a046",
   "metadata": {},
   "outputs": [],
   "source": [
    "s1 = \"haseeb\""
   ]
  },
  {
   "cell_type": "code",
   "execution_count": 11,
   "id": "8c3b21e7-e597-4a1a-91f0-f218fdb64624",
   "metadata": {},
   "outputs": [
    {
     "name": "stdout",
     "output_type": "stream",
     "text": [
      "h\n",
      "a\n",
      "s\n",
      "e\n",
      "e\n",
      "b\n"
     ]
    }
   ],
   "source": [
    "for i in s1 :\n",
    "    print(i)"
   ]
  },
  {
   "cell_type": "code",
   "execution_count": 17,
   "id": "c13b558a-08c3-4362-9bc6-3d5a83e5095c",
   "metadata": {},
   "outputs": [],
   "source": [
    "d = {'key' : \"haseeb\" , \"class\": \"data science masters\" , \"topics\" : [\"python\" , \"statics\" , \"ml\" , \"dl\" , \"cv\" , \"nlp\" , \"resume\" , \"interviews\"]}"
   ]
  },
  {
   "cell_type": "code",
   "execution_count": 18,
   "id": "fd6c1bec-d672-40ec-98ae-8a3ce77c995e",
   "metadata": {},
   "outputs": [
    {
     "data": {
      "text/plain": [
       "{'key': 'haseeb',\n",
       " 'class': 'data science masters',\n",
       " 'topics': ['python',\n",
       "  'statics',\n",
       "  'ml',\n",
       "  'dl',\n",
       "  'cv',\n",
       "  'nlp',\n",
       "  'resume',\n",
       "  'interviews']}"
      ]
     },
     "execution_count": 18,
     "metadata": {},
     "output_type": "execute_result"
    }
   ],
   "source": [
    "d"
   ]
  },
  {
   "cell_type": "code",
   "execution_count": 19,
   "id": "5d6bccf6-b577-46e6-bb03-f665a6a08ff8",
   "metadata": {},
   "outputs": [
    {
     "data": {
      "text/plain": [
       "['python', 'statics', 'ml', 'dl', 'cv', 'nlp', 'resume', 'interviews']"
      ]
     },
     "execution_count": 19,
     "metadata": {},
     "output_type": "execute_result"
    }
   ],
   "source": [
    "d['topics']"
   ]
  },
  {
   "cell_type": "code",
   "execution_count": 20,
   "id": "ed374624-0398-4a42-a458-e8ca22e85438",
   "metadata": {},
   "outputs": [
    {
     "data": {
      "text/plain": [
       "dict_keys(['key', 'class', 'topics'])"
      ]
     },
     "execution_count": 20,
     "metadata": {},
     "output_type": "execute_result"
    }
   ],
   "source": [
    "d.keys()"
   ]
  },
  {
   "cell_type": "code",
   "execution_count": 25,
   "id": "c6bc6939-9622-4892-a5e1-39b51963dd19",
   "metadata": {},
   "outputs": [
    {
     "data": {
      "text/plain": [
       "dict_items([('key', 'haseeb'), ('class', 'data science masters'), ('topics', ['python', 'statics', 'ml', 'dl', 'cv', 'nlp', 'resume', 'interviews'])])"
      ]
     },
     "execution_count": 25,
     "metadata": {},
     "output_type": "execute_result"
    }
   ],
   "source": [
    "d.items()"
   ]
  },
  {
   "cell_type": "code",
   "execution_count": 21,
   "id": "6ded6ad1-e214-4477-bee8-d71c1501f9c6",
   "metadata": {},
   "outputs": [
    {
     "name": "stdout",
     "output_type": "stream",
     "text": [
      "haseeb\n",
      "data science masters\n",
      "['python', 'statics', 'ml', 'dl', 'cv', 'nlp', 'resume', 'interviews']\n"
     ]
    }
   ],
   "source": [
    "for i in d.keys() :\n",
    "    print(d[i])"
   ]
  },
  {
   "cell_type": "code",
   "execution_count": 27,
   "id": "23106734-e4c9-42fb-9b58-6098eb14a46f",
   "metadata": {},
   "outputs": [
    {
     "data": {
      "text/plain": [
       "dict_values(['haseeb', 'data science masters', ['python', 'statics', 'ml', 'dl', 'cv', 'nlp', 'resume', 'interviews']])"
      ]
     },
     "execution_count": 27,
     "metadata": {},
     "output_type": "execute_result"
    }
   ],
   "source": [
    "d.values()"
   ]
  },
  {
   "cell_type": "code",
   "execution_count": 24,
   "id": "d94dbf50-f913-4ac5-9ff1-c5df022565ed",
   "metadata": {},
   "outputs": [
    {
     "name": "stdout",
     "output_type": "stream",
     "text": [
      "haseeb\n",
      "data science masters\n",
      "['python', 'statics', 'ml', 'dl', 'cv', 'nlp', 'resume', 'interviews']\n"
     ]
    }
   ],
   "source": [
    "for i in d.values() :\n",
    "    print(i)"
   ]
  },
  {
   "cell_type": "code",
   "execution_count": 26,
   "id": "2fab968a-cb88-42c7-a113-2d6f2059659b",
   "metadata": {},
   "outputs": [
    {
     "name": "stdout",
     "output_type": "stream",
     "text": [
      "('key', 'haseeb')\n",
      "('class', 'data science masters')\n",
      "('topics', ['python', 'statics', 'ml', 'dl', 'cv', 'nlp', 'resume', 'interviews'])\n"
     ]
    }
   ],
   "source": [
    "for i in d.items() :\n",
    "    print(i)"
   ]
  },
  {
   "cell_type": "code",
   "execution_count": null,
   "id": "5aaa7ccd-673d-4b3d-ae37-0aedbf87d0ac",
   "metadata": {},
   "outputs": [],
   "source": []
  }
 ],
 "metadata": {
  "kernelspec": {
   "display_name": "Python 3 (ipykernel)",
   "language": "python",
   "name": "python3"
  },
  "language_info": {
   "codemirror_mode": {
    "name": "ipython",
    "version": 3
   },
   "file_extension": ".py",
   "mimetype": "text/x-python",
   "name": "python",
   "nbconvert_exporter": "python",
   "pygments_lexer": "ipython3",
   "version": "3.10.6"
  }
 },
 "nbformat": 4,
 "nbformat_minor": 5
}
