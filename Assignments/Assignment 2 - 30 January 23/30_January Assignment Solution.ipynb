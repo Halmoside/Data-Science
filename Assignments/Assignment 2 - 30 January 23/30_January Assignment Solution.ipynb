{
 "cells": [
  {
   "cell_type": "code",
   "execution_count": 1,
   "id": "f5cebcf9-45d9-439e-9b0f-29a5b265b194",
   "metadata": {},
   "outputs": [
    {
     "name": "stdin",
     "output_type": "stream",
     "text": [
      " 55\n"
     ]
    },
    {
     "name": "stdout",
     "output_type": "stream",
     "text": [
      "D\n"
     ]
    }
   ],
   "source": [
    "# 1. Write a program to accept percentage from the user and display the grade according to the following .\n",
    "\n",
    "def get_grade(percentage):\n",
    "    if percentage > 90:\n",
    "        return 'A'\n",
    "    elif percentage > 80:\n",
    "        return 'B'\n",
    "    elif percentage >= 60:\n",
    "        return 'C'\n",
    "    else:\n",
    "        return 'D'\n",
    "\n",
    "percentage = int(input())\n",
    "print(get_grade(percentage))"
   ]
  },
  {
   "cell_type": "code",
   "execution_count": 2,
   "id": "12170156-6aaa-4f81-96c8-b71928bf0ae4",
   "metadata": {},
   "outputs": [
    {
     "name": "stdin",
     "output_type": "stream",
     "text": [
      " 200000\n"
     ]
    },
    {
     "name": "stdout",
     "output_type": "stream",
     "text": [
      "30000.0\n"
     ]
    }
   ],
   "source": [
    "# 2. Write a program to accept the cost price of a bike and display the road tax to be paid according to the following criteria:\n",
    "def get_road_tax(price):\n",
    "    if price > 100000:\n",
    "        return 0.15 * price\n",
    "    elif price > 50000:\n",
    "        return 0.1 * price\n",
    "    else:\n",
    "        return 0.05 * price\n",
    "\n",
    "price = int(input())\n",
    "print(get_road_tax(price))"
   ]
  },
  {
   "cell_type": "code",
   "execution_count": 3,
   "id": "5a6a8511-ecce-4230-aa37-75ea87fbc2f6",
   "metadata": {},
   "outputs": [
    {
     "name": "stdin",
     "output_type": "stream",
     "text": [
      " Agra\n"
     ]
    },
    {
     "data": {
      "text/plain": [
       "'Taj Mahal'"
      ]
     },
     "execution_count": 3,
     "metadata": {},
     "output_type": "execute_result"
    }
   ],
   "source": [
    "# 3. Accept any city from the user and display monuments of that city.\n",
    "def get_city_monuments(city):\n",
    "    if city == 'Delhi':\n",
    "        return 'Red Fort'\n",
    "    elif city == 'Agra':\n",
    "        return 'Taj Mahal'\n",
    "    elif city == 'Jaipur':\n",
    "        return 'Jal Mahal'\n",
    "\n",
    "city = input()\n",
    "get_city_monuments(city)"
   ]
  },
  {
   "cell_type": "code",
   "execution_count": 4,
   "id": "5719ae17-de56-4f82-ac92-943f9db3e21d",
   "metadata": {},
   "outputs": [
    {
     "name": "stdin",
     "output_type": "stream",
     "text": [
      " 24\n"
     ]
    },
    {
     "name": "stdout",
     "output_type": "stream",
     "text": [
      "4\n"
     ]
    }
   ],
   "source": [
    "# 4. Check how many times a given number can be divided by 3 before it is less than or equal to 10.\n",
    "number = int(input())\n",
    "if number > 10:\n",
    "    print((number-10)//3)\n",
    "else:\n",
    "    print(0)"
   ]
  },
  {
   "cell_type": "code",
   "execution_count": 5,
   "id": "79a8a522-f966-4bf6-9f90-99f44faa218c",
   "metadata": {},
   "outputs": [],
   "source": [
    "# 5. Why and When to Use while Loop in Python give a detailed description with example.\n",
    "#  We use do while when we want to execute the body of the at least once. And until some condition false, \n",
    "# then we should go for while loop."
   ]
  },
  {
   "cell_type": "code",
   "execution_count": 6,
   "id": "a11ec591-4987-447d-a819-d45d844b304e",
   "metadata": {},
   "outputs": [
    {
     "name": "stdout",
     "output_type": "stream",
     "text": [
      "\n",
      "1 \n",
      "2 2 \n",
      "3 3 3 \n",
      "4 4 4 4 \n",
      "5 5 5 5 5 \n"
     ]
    }
   ],
   "source": [
    "# 6. Use nested while loop to print 3 different pattern.\n",
    "i = 0\n",
    "while i < 6 :\n",
    "    j = 0\n",
    "    while j < i:\n",
    "        print(i, end=' ')\n",
    "        j += 1\n",
    "    i += 1\n",
    "    print('')"
   ]
  },
  {
   "cell_type": "code",
   "execution_count": 7,
   "id": "43b4e216-12af-418a-a723-1fe63e421802",
   "metadata": {},
   "outputs": [
    {
     "name": "stdout",
     "output_type": "stream",
     "text": [
      "10 9 8 7 6 5 4 3 2 1 0 "
     ]
    }
   ],
   "source": [
    "# 7. Reverse a while loop to display numbers from 10 to 1.\n",
    "i = 10\n",
    "while i >= 0:\n",
    "    print(i, end=' ')\n",
    "    i -= 1"
   ]
  },
  {
   "cell_type": "code",
   "execution_count": 8,
   "id": "08bb5c39-5ec2-43ed-ae5f-5eda08148398",
   "metadata": {},
   "outputs": [
    {
     "name": "stdout",
     "output_type": "stream",
     "text": [
      "10 9 8 7 6 5 4 3 2 1 0 "
     ]
    }
   ],
   "source": [
    "# 8. Reverse a while loop to display numbers from 10 to 1.\n",
    "i = 10\n",
    "while i >= 0:\n",
    "    print(i, end=' ')\n",
    "    i -= 1"
   ]
  },
  {
   "cell_type": "code",
   "execution_count": null,
   "id": "397d0a6b-d5e4-4c34-ad41-b1673c049a41",
   "metadata": {},
   "outputs": [],
   "source": []
  }
 ],
 "metadata": {
  "kernelspec": {
   "display_name": "Python 3 (ipykernel)",
   "language": "python",
   "name": "python3"
  },
  "language_info": {
   "codemirror_mode": {
    "name": "ipython",
    "version": 3
   },
   "file_extension": ".py",
   "mimetype": "text/x-python",
   "name": "python",
   "nbconvert_exporter": "python",
   "pygments_lexer": "ipython3",
   "version": "3.10.6"
  }
 },
 "nbformat": 4,
 "nbformat_minor": 5
}
