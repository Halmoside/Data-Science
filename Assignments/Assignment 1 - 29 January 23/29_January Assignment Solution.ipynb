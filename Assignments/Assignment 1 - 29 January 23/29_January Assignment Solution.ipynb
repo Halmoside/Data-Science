{
 "cells": [
  {
   "cell_type": "code",
   "execution_count": 1,
   "id": "d92213c8-364d-4787-a3d7-2d318de710a2",
   "metadata": {},
   "outputs": [],
   "source": [
    "# who developed Python programming language\n",
    "# Python is a high-level, general-purpose programming language. Its design philosophy emphasizes code readability with the use \n",
    "# of significant indentation via the off-side rule.\n",
    "\n",
    "# Python is dynamically typed and garbage-collected. It supports multiple programming paradigms, including structured \n",
    "# (particularly procedural), object-oriented and functional programming. It is often described as a \"batteries included\"\n",
    "# language due to its comprehensive standard library.[35][36]\n",
    "\n",
    "# Guido van Rossum began working on Python in the late 1980s as a successor to the ABC programming language and first released \n",
    "# it in 1991 as Python 0.9.0.[37] Python 2.0 was released in 2000. Python 3.0, released in 2008, was a major revision not \n",
    "# completely backward-compatible with earlier versions. Python 2.7.18, released in 2020, was the last release of Python 2."
   ]
  },
  {
   "cell_type": "code",
   "execution_count": 2,
   "id": "9bae8cef-82ac-4ffd-b6b3-314540182cbc",
   "metadata": {},
   "outputs": [],
   "source": [
    "# which type of programming does python supports\n",
    "# Python is an interpreted, interactive, object-oriented programming language. It incorporates modules, exceptions, dynamic \n",
    "# typing, very high level dynamic data types, and classes. It supports multiple programming paradigms beyond object-oriented \n",
    "# programming, such as procedural and functional programming."
   ]
  },
  {
   "cell_type": "code",
   "execution_count": 3,
   "id": "c6d2f504-a146-4035-89d0-901c56e2e482",
   "metadata": {},
   "outputs": [],
   "source": [
    "# Is python case sensitive when dealing with identifiers\n",
    "# Yes, Python is a case−sensitive programming language. This means that it considers uppercase and lowercase letters differently."
   ]
  },
  {
   "cell_type": "code",
   "execution_count": 4,
   "id": "c835e501-6a26-4d3c-8641-91a24d7c6b0c",
   "metadata": {},
   "outputs": [],
   "source": [
    "# What is the correct extension of the Python file\n",
    "# pyc: This is the file extension for compiled Python code files. When a . py file is executed, the Python interpreter compiles\n",
    "# the code to bytecode and saves it in a . pyc file to improve performance on subsequent executions."
   ]
  },
  {
   "cell_type": "code",
   "execution_count": 5,
   "id": "d8885d82-7766-4208-aa8e-ea2015a49e41",
   "metadata": {},
   "outputs": [],
   "source": [
    "# Is python code compiled or interpreted\n",
    "# Python is an interpreted language, which means the source code of a Python program is converted into bytecode that is then \n",
    "# executed by the Python virtual machine. Python is different from major compiled languages, such as C and C + +, as Python \n",
    "# code is not required to be built and linked like code for these languages."
   ]
  },
  {
   "cell_type": "code",
   "execution_count": 6,
   "id": "8c466891-ece8-4672-9ce6-a2a3fdb13ad6",
   "metadata": {},
   "outputs": [],
   "source": [
    "# Name of few blocks of code used to define a Python language\n",
    "# Indentation is used to define a block of code in python. Braces {} are used to define a block of code in most programming \n",
    "# languages, like C, C++, and Java. But this indentation makes python unique among all programming languages.\n",
    "\n",
    "# This indentation highlights the block of code. In Python, indentation is done with whitespace. All statements with the same\n",
    "# right-hand distance belong to the same code block. If a block needs to be more nested, it is indented to the right.\n",
    "\n",
    "# Indentation is only used in most other programming languages to help make the code look nice. However, it is required in \n",
    "# Python to indicate which block of code a statement belongs to."
   ]
  },
  {
   "cell_type": "code",
   "execution_count": 7,
   "id": "13905386-6a20-4334-b329-112892a67d0b",
   "metadata": {},
   "outputs": [],
   "source": [
    "# State a character used to give single line comment in Python\n",
    "# Comments in Python are identified with a hash symbol, #, and extend to the end of the line."
   ]
  },
  {
   "cell_type": "code",
   "execution_count": 8,
   "id": "98291243-dadd-4a3c-954d-d42458c40d1a",
   "metadata": {},
   "outputs": [],
   "source": [
    "# Mention functions which can help us to find the version of python that we are currently working on\n",
    "#The function sys. version can help us to find the version of python that we are currently working on."
   ]
  },
  {
   "cell_type": "code",
   "execution_count": 9,
   "id": "9051d6d7-403f-4ac2-a684-1c64a317b1c9",
   "metadata": {},
   "outputs": [],
   "source": [
    "# Python supports the creation of anonymous functions at runtime, using a construct called \n",
    "# Python supports the creation of anonymous functions (i.e. functions that are not bound to a name) at runtime, using a \n",
    "# construct called lambda."
   ]
  },
  {
   "cell_type": "code",
   "execution_count": 10,
   "id": "22673808-9bae-4983-a3b2-e443dadf0020",
   "metadata": {},
   "outputs": [],
   "source": [
    "# What does PIP stands for in Python\n",
    "# pip install packages ."
   ]
  },
  {
   "cell_type": "code",
   "execution_count": 11,
   "id": "d3dabfbb-03d1-4f0c-8ab8-68d03deaca58",
   "metadata": {},
   "outputs": [],
   "source": [
    "# Mention a few built in functions in Python\n",
    "# abs()\tReturns the absolute value of a number\n",
    "# all()\tReturns True if all items in an iterable object are true\n",
    "# any()\tReturns True if any item in an iterable object is true\n",
    "# ascii()\tReturns a readable version of an object. Replaces none-ascii characters with escape character\n",
    "# bin()\tReturns the binary version of a number\n",
    "# bool()\tReturns the boolean value of the specified object\n",
    "# bytearray()\tReturns an array of bytes\n",
    "# bytes()\tReturns a bytes object\n",
    "# callable()\tReturns True if the specified object is callable, otherwise False\n",
    "# chr()\tReturns a character from the specified Unicode code."
   ]
  },
  {
   "cell_type": "code",
   "execution_count": 12,
   "id": "370efd49-3624-4035-803f-3bfac991de12",
   "metadata": {},
   "outputs": [],
   "source": [
    "# What is the maximum possible length of an identifier in Python\n",
    "# An identifier can have a maximum length of 79 characters in Python."
   ]
  },
  {
   "cell_type": "code",
   "execution_count": 13,
   "id": "7b4ed223-f3b8-4414-9868-3b5b1e59c8da",
   "metadata": {},
   "outputs": [],
   "source": [
    "# What are the benefits of using python\n",
    "# 1. Simple to Use and Understand. For newcomers, Python is simple to understand and use. ...\n",
    "# 2. Free and Open-Source.\n",
    "# 3. Productivity has Increased\n",
    "# 4. Interpreted Language\n",
    "# 5. Extensive library\n",
    "# 6. Dynamically Typed\n",
    "# 7. Portability\n",
    "# 8. Supportive community."
   ]
  },
  {
   "cell_type": "code",
   "execution_count": 14,
   "id": "e232d74e-ba24-44c4-8be5-a1b18328457c",
   "metadata": {},
   "outputs": [],
   "source": [
    "# How is memory managed in Python\n",
    "# Python uses the dynamic memory allocation which is managed by the Heap data structure. Memory Heap holds the objects and \n",
    "# other data structures that will be used in the program. Python memory manager manages the allocation or de-allocation of the \n",
    "# heap memory space through the API functions."
   ]
  },
  {
   "cell_type": "code",
   "execution_count": 15,
   "id": "46763a6f-03dd-4df5-ad27-edf1a53c537c",
   "metadata": {},
   "outputs": [],
   "source": [
    "# How to install python in windows and set path variables\n",
    "# Step 1 − Select Version of Python to Install .\n",
    "# Step 2 − Download Python Executable Installer .\n",
    "# Step 3 − Run Executable Installer .\n",
    "# Step 4 − Verify Python is installed on Windows .\n",
    "# Step 5 − Verify Pip was installed .\n",
    "\n",
    "# To set a path variable in windows .\n",
    "# 1. Right click on My Computer and click on properties.\n",
    "# 2. Click on Advanced System settings. ...\n",
    "# 3. Click on Environment Variable tab. ...\n",
    "# 4. Click on new tab of user variables.\n",
    "# 5. Write path in variable name.\n",
    "# 6. Copy the path of Python folder.\n",
    "# 7. Paste path of Python in variable value."
   ]
  },
  {
   "cell_type": "code",
   "execution_count": null,
   "id": "733f3cf4-c64d-4aa7-8ff3-1273108c3cf5",
   "metadata": {},
   "outputs": [],
   "source": [
    "# Is indentation required in Python\n",
    "# Indentation is important to Python, because it's how you determine scope. Scope is how Python knows what code belongs to what\n",
    "# part of the program."
   ]
  }
 ],
 "metadata": {
  "kernelspec": {
   "display_name": "Python 3 (ipykernel)",
   "language": "python",
   "name": "python3"
  },
  "language_info": {
   "codemirror_mode": {
    "name": "ipython",
    "version": 3
   },
   "file_extension": ".py",
   "mimetype": "text/x-python",
   "name": "python",
   "nbconvert_exporter": "python",
   "pygments_lexer": "ipython3",
   "version": "3.10.6"
  }
 },
 "nbformat": 4,
 "nbformat_minor": 5
}
