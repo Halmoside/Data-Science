{
 "cells": [
  {
   "cell_type": "code",
   "execution_count": 1,
   "id": "b00745f9-429c-403b-89d1-d724e95d67fb",
   "metadata": {},
   "outputs": [],
   "source": [
    "# Which keyword is used to create a function? Create a function to return a list of odd numbers in the range of 1 to 25.\n",
    "\n",
    "# 'def' keyword is used to create a fuction.\n",
    "def odd_num():\n",
    "    odds = []\n",
    "    for i in range(1,26):\n",
    "        if i%2 != 0:\n",
    "            odds.append(i)\n",
    "    return odds"
   ]
  },
  {
   "cell_type": "code",
   "execution_count": 2,
   "id": "4f3c6c79-618e-4af6-9bcb-a663afd18ea1",
   "metadata": {},
   "outputs": [
    {
     "data": {
      "text/plain": [
       "[1, 3, 5, 7, 9, 11, 13, 15, 17, 19, 21, 23, 25]"
      ]
     },
     "execution_count": 2,
     "metadata": {},
     "output_type": "execute_result"
    }
   ],
   "source": [
    "odd_num()"
   ]
  },
  {
   "cell_type": "code",
   "execution_count": 5,
   "id": "13aa7e2e-f67a-4d12-b828-cf46cb7bf3db",
   "metadata": {},
   "outputs": [],
   "source": [
    "# Why *args and **kwargs is used in some functions? Create a function each for *args and **kwargs to demonstrate their use.\n",
    "# *args and **kwargs are used in functions to pass a variable number of arguments to the function.\n",
    "\n",
    "# *args is used to send a non-keyworded variable length argument list to the function. It allows the function to receive a \n",
    "# dynamic number of non-keyword arguments, and these arguments are packed into a tuple.\n",
    "\n",
    "# **kwargs allows a keyworded, variable-length argument list. It passes keyworded variable length of arguments to a function. \n",
    "# The arguments are passed in the form of key-value pairs and packed into a dictionary.\n"
   ]
  },
  {
   "cell_type": "code",
   "execution_count": 6,
   "id": "eed9bc50-6145-4f03-8faf-cc31e4931f21",
   "metadata": {},
   "outputs": [],
   "source": [
    "# Example\n",
    "\n",
    "def test_func(*args, **kwargs):\n",
    "    print(\"This is a test function\")\n",
    "    print(\"Non-keyworded arguments:\", args)\n",
    "    print(\"Keyworded arguments:\", kwargs)"
   ]
  },
  {
   "cell_type": "code",
   "execution_count": 7,
   "id": "2a7fbcaa-c9c3-480b-a8bd-8e7ee870c641",
   "metadata": {},
   "outputs": [
    {
     "name": "stdout",
     "output_type": "stream",
     "text": [
      "This is a test function\n",
      "Non-keyworded arguments: (1, 2, 3, 4, 5)\n",
      "Keyworded arguments: {'name': 'Yogesh', 'age': 21}\n"
     ]
    }
   ],
   "source": [
    "# Call the function with non-keyworded and keyworded arguments\n",
    "\n",
    "test_func(1, 2, 3, 4, 5, name=\"Yogesh\", age=21)"
   ]
  },
  {
   "cell_type": "code",
   "execution_count": 8,
   "id": "e0a1a7e2-0849-4246-8c52-8abc9fa6bcb2",
   "metadata": {},
   "outputs": [
    {
     "name": "stdout",
     "output_type": "stream",
     "text": [
      "2\n",
      "4\n",
      "6\n",
      "8\n",
      "10\n"
     ]
    }
   ],
   "source": [
    "# What is an iterator in python? Name the method used to initialise the iterator object and the method used for iteration. \n",
    "# Use these methods to print the first five elements of the given list [2, 4, 6, 8, 10, 12, 14, 16, 18, 20].\n",
    "\n",
    "# An iterator in Python is an object that implements the iterator protocol. It must define two methods: __iter__() \n",
    "# and __next__(). __iter__() returns the iterator object itself and the __next__() method returns the next item from the \n",
    "# sequence of elements.\n",
    "\n",
    "# Here's an example of how you can use the iter() method to initialize the iterator object and the next() method to iterate\n",
    "# over the elements:\n",
    "    \n",
    "l = [2, 4, 6, 8, 10, 12, 14, 16, 18, 20]\n",
    "it = iter(l)\n",
    "\n",
    "for i in range(5):\n",
    "    print(next(it))    "
   ]
  },
  {
   "cell_type": "code",
   "execution_count": 10,
   "id": "672762f6-ec84-41ce-87cf-a46c4edd4ece",
   "metadata": {},
   "outputs": [],
   "source": [
    "# What is a generator function in python? Why yield keyword is used? Give an example of a generator function.\n",
    "\n",
    "def generator_function(n):\n",
    "    i = 0\n",
    "    while i < n:\n",
    "        yield i\n",
    "        i += 1"
   ]
  },
  {
   "cell_type": "code",
   "execution_count": 11,
   "id": "e2aa6934-25fb-4871-ac57-3f92849db81a",
   "metadata": {},
   "outputs": [
    {
     "name": "stdout",
     "output_type": "stream",
     "text": [
      "0\n",
      "1\n",
      "2\n",
      "3\n",
      "4\n"
     ]
    }
   ],
   "source": [
    "gen = generator_function(5)\n",
    "for i in gen:\n",
    "    print(i)"
   ]
  },
  {
   "cell_type": "code",
   "execution_count": 12,
   "id": "00dfb310-82d1-4d7c-a0c7-134c613b3add",
   "metadata": {},
   "outputs": [],
   "source": [
    "# Create a generator function for prime numbers less than 1000. Use the next() method to print the first 20 prime numbers.\n",
    "\n",
    "def prime_number():\n",
    "    for n in range(1,1000):\n",
    "        for i in range(2,n):\n",
    "            if(n%i==0):\n",
    "                break\n",
    "        else:\n",
    "            yield n    "
   ]
  },
  {
   "cell_type": "code",
   "execution_count": 13,
   "id": "882fcb90-52ee-47e8-a351-a4a1b6d82cee",
   "metadata": {},
   "outputs": [
    {
     "name": "stdout",
     "output_type": "stream",
     "text": [
      "1\n",
      "2\n",
      "3\n",
      "5\n",
      "7\n",
      "11\n",
      "13\n",
      "17\n",
      "19\n",
      "23\n",
      "29\n",
      "31\n",
      "37\n",
      "41\n",
      "43\n",
      "47\n",
      "53\n",
      "59\n",
      "61\n",
      "67\n",
      "71\n"
     ]
    }
   ],
   "source": [
    "prime_gen = prime_number()\n",
    "for i in range(21):\n",
    "    print(next(prime_gen))"
   ]
  },
  {
   "cell_type": "code",
   "execution_count": 14,
   "id": "caaf1ae6-053f-430f-b235-31a52c87c863",
   "metadata": {},
   "outputs": [
    {
     "name": "stdout",
     "output_type": "stream",
     "text": [
      "0\n",
      "1\n",
      "1\n",
      "2\n",
      "3\n",
      "5\n",
      "8\n",
      "13\n",
      "21\n",
      "34\n"
     ]
    }
   ],
   "source": [
    "# Write a python program to print the first 10 Fibonacci numbers using a while loop.\n",
    "\n",
    "number = 10 ## Hard Coded\n",
    "a,b = 0,1\n",
    "counter = 0\n",
    "while counter < number :\n",
    "    print(a)\n",
    "    a,b = b, a + b\n",
    "    counter +=1"
   ]
  },
  {
   "cell_type": "code",
   "execution_count": 15,
   "id": "481dd4c2-4a7e-41de-b9d0-105aa4a20c4e",
   "metadata": {},
   "outputs": [
    {
     "data": {
      "text/plain": [
       "['p', 'w', 's', 'k', 'i', 'l', 'l', 's']"
      ]
     },
     "execution_count": 15,
     "metadata": {},
     "output_type": "execute_result"
    }
   ],
   "source": [
    "# Write a List Comprehension to iterate through the given string: ‘pwskills’. Expected output:\n",
    "#     ['p', 'w', 's', 'k', 'i', 'l', 'l', 's']\n",
    "\n",
    "[i for i in 'pwskills']"
   ]
  },
  {
   "cell_type": "code",
   "execution_count": 16,
   "id": "e8bcdb01-ae8e-4503-a40f-82896798f62d",
   "metadata": {},
   "outputs": [
    {
     "name": "stdin",
     "output_type": "stream",
     "text": [
      "Enter a number to check for Palindrome 2345\n"
     ]
    },
    {
     "name": "stdout",
     "output_type": "stream",
     "text": [
      "Not a Palindrome!\n"
     ]
    }
   ],
   "source": [
    "# Write a python program to check whether a given number is Palindrome or not using a while loop.\n",
    "\n",
    "number = int(input(\"Enter a number to check for Palindrome\"))\n",
    "number1 = str(number)\n",
    "length = len(number1)\n",
    "reverse = \"\"\n",
    "while( length > 0):\n",
    "    reverse = reverse + number1[length-1] \n",
    "    length -= 1\n",
    "if number1 == reverse:\n",
    "    print (\"Palindrome!\")\n",
    "else:\n",
    "    print (\"Not a Palindrome!\")"
   ]
  },
  {
   "cell_type": "code",
   "execution_count": null,
   "id": "657c190f-e2e2-4de5-a616-8797e86d79c0",
   "metadata": {},
   "outputs": [],
   "source": [
    "# Write a code to print odd numbers from 1 to 100 using list comprehension.\n"
   ]
  }
 ],
 "metadata": {
  "kernelspec": {
   "display_name": "Python 3 (ipykernel)",
   "language": "python",
   "name": "python3"
  },
  "language_info": {
   "codemirror_mode": {
    "name": "ipython",
    "version": 3
   },
   "file_extension": ".py",
   "mimetype": "text/x-python",
   "name": "python",
   "nbconvert_exporter": "python",
   "pygments_lexer": "ipython3",
   "version": "3.10.6"
  }
 },
 "nbformat": 4,
 "nbformat_minor": 5
}
