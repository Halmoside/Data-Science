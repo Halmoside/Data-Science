{
 "cells": [
  {
   "cell_type": "code",
   "execution_count": 1,
   "id": "21bea01e-b6c6-4429-bd0a-8ba3e9c87a85",
   "metadata": {},
   "outputs": [],
   "source": [
    "# Explain with an example each when to use a for loop and a while loop.\n",
    "# A for loop is a control flow statement that executes code for a predefined number of iterations. The keyword used in this \n",
    "# control flow statement is “for”. When the number of iterations is already known, the for loop is used.\n",
    "# Example - \n",
    "n = [1, 2, 3]  # Initialization\n",
    "for i in n:  # Condition and Updation\n",
    "    print(i)\n",
    "    \n",
    "# A loop that executes a single statement or a group of statements for the given true condition. The keyword used to represent \n",
    "# this loop is \"while\". A \"while\" loop is used when the number of iterations is unknown. The statement repeats itself till the \n",
    "# boolean value becomes false. In a while loop, the condition is tested at the start, also known as the pre-test loop. \n",
    "# Example - \n",
    "i = 1  # Initialization\n",
    "while i < 6:  # Condition\n",
    "    print(i)\n",
    "    i += 1  # Updation\n",
    "\n"
   ]
  },
  {
   "cell_type": "code",
   "execution_count": 1,
   "id": "473ba063-6cce-4b3e-a5e7-47bb8f55f567",
   "metadata": {},
   "outputs": [],
   "source": [
    "# Write a python program to print the sum and product of the first 10 natural numbers using for and while loop .\n",
    "and while loop.\n",
    "l = [1,2,3,4,5,6,7,8,9,10]"
   ]
  },
  {
   "cell_type": "code",
   "execution_count": 2,
   "id": "5ae7934a-0615-4faf-a847-287dc11851b1",
   "metadata": {},
   "outputs": [
    {
     "data": {
      "text/plain": [
       "[1, 2, 3, 4, 5, 6, 7, 8, 9, 10]"
      ]
     },
     "execution_count": 2,
     "metadata": {},
     "output_type": "execute_result"
    }
   ],
   "source": [
    "l"
   ]
  },
  {
   "cell_type": "code",
   "execution_count": 5,
   "id": "a0688373-7e7a-4d7a-828c-bc0ce4aa46a7",
   "metadata": {},
   "outputs": [
    {
     "name": "stdin",
     "output_type": "stream",
     "text": [
      "Enter No 10\n"
     ]
    },
    {
     "name": "stdout",
     "output_type": "stream",
     "text": [
      "45\n"
     ]
    }
   ],
   "source": [
    "n = int(input(\"Enter No\"))\n",
    "sum = 0\n",
    "for i in range(0, n) :\n",
    "    sum = sum + i\n",
    "print(sum)   "
   ]
  },
  {
   "cell_type": "code",
   "execution_count": 17,
   "id": "0ff78fe5-a8b9-4cc7-b302-23fe11883545",
   "metadata": {},
   "outputs": [
    {
     "name": "stdin",
     "output_type": "stream",
     "text": [
      "Enter No 10\n"
     ]
    },
    {
     "name": "stdout",
     "output_type": "stream",
     "text": [
      "55\n"
     ]
    }
   ],
   "source": [
    "n = int(input(\"Enter No\"))\n",
    "sum = 0\n",
    "i = 1\n",
    "while i<=n:\n",
    "  sum = sum+i\n",
    "  i = i+1\n",
    "print(sum)\n"
   ]
  },
  {
   "cell_type": "code",
   "execution_count": 26,
   "id": "d3af0002-d2de-4638-a000-f774f5ec4be4",
   "metadata": {},
   "outputs": [
    {
     "name": "stdin",
     "output_type": "stream",
     "text": [
      "Enter the units 310\n"
     ]
    },
    {
     "name": "stdout",
     "output_type": "stream",
     "text": [
      "2250\n"
     ]
    }
   ],
   "source": [
    "# Create a python program to compute the electricity bill for a household.\n",
    "# The per-unit charges in rupees are as follows: For the first 100 units, the user will be charged Rs. 4.5 per unit, for the \n",
    "# next 100 units, the user will be charged Rs. 6 per unit, and for the next 100 units, the user will be charged Rs. 10 per unit, \n",
    "# After 300 units and above the user will be charged Rs. 20 per unit.\n",
    "\n",
    "\n",
    "# You are required to take the units of electricity consumed in a month from the user as input.\n",
    "\n",
    "\n",
    "# Your program must pass this test case: when the unit of electricity consumed by the user in a month is\n",
    "# 310, the total electricity bill should be 2250.\n",
    "\n",
    "\n",
    "\n",
    "unit = int(input(\"Enter the units\"))\n",
    "bill = 0\n",
    "if unit == 100 :\n",
    "    print(unit * 4.5)\n",
    "elif unit > 100 and unit < 200 :\n",
    "        bill = 450 + (unit - 100*6)\n",
    "elif unit > 200 and unit < 300 :\n",
    "        bill = 450 + 250 + (unit - 200*10)\n",
    "elif unit >= 300 :\n",
    "        bill = 450 + 250 + 1350 + (unit - 300)*20\n",
    "print(bill)\n",
    "        "
   ]
  },
  {
   "cell_type": "code",
   "execution_count": 1,
   "id": "483a88d5-003e-4df6-b10f-63e6c42e437e",
   "metadata": {},
   "outputs": [
    {
     "name": "stdout",
     "output_type": "stream",
     "text": [
      "List of numbers those cubes are divisible by either 4 or 5 are [2, 4, 5, 6, 8, 10, 12, 14, 15, 16, 18, 20, 22, 24, 25, 26, 28, 30, 32, 34, 35, 36, 38, 40, 42, 44, 45, 46, 48, 50, 52, 54, 55, 56, 58, 60, 62, 64, 65, 66, 68, 70, 72, 74, 75, 76, 78, 80, 82, 84, 85, 86, 88, 90, 92, 94, 95, 96, 98, 100]\n"
     ]
    }
   ],
   "source": [
    "# Create a list of numbers from 1 to 100. Use for loop and while loop to calculate the cube of each number and if the cube of \n",
    "# that number is divisible by 4 or 5 then append that number in a list and print that list.\n",
    "## For Loop\n",
    "l  = list(range(1,101))\n",
    "l2 = []\n",
    "for i in l:\n",
    "    cube = i**3\n",
    "    if cube%4 == 0 or cube%5 == 0:\n",
    "       l2.append(i)\n",
    "print(\"List of numbers those cubes are divisible by either 4 or 5 are\",l2)"
   ]
  },
  {
   "cell_type": "code",
   "execution_count": 2,
   "id": "58b942f1-2c62-46dc-a8d3-b7fb20635b96",
   "metadata": {},
   "outputs": [
    {
     "name": "stdout",
     "output_type": "stream",
     "text": [
      "List of numbers those cubes are divisible by either 4 or 5 are [2, 4, 5, 6, 8, 10, 12, 14, 15, 16, 18, 20, 22, 24, 25, 26, 28, 30, 32, 34, 35, 36, 38, 40, 42, 44, 45, 46, 48, 50, 52, 54, 55, 56, 58, 60, 62, 64, 65, 66, 68, 70, 72, 74, 75, 76, 78, 80, 82, 84, 85, 86, 88, 90, 92, 94, 95, 96, 98, 100]\n"
     ]
    }
   ],
   "source": [
    "# While Loop\n",
    "count = 1\n",
    "l = []\n",
    "while(count <=100):\n",
    "    cube = count**3\n",
    "    if cube%4 == 0 or cube%5 == 0:\n",
    "        l.append(count)\n",
    "    count +=1\n",
    "print(\"List of numbers those cubes are divisible by either 4 or 5 are\",l)"
   ]
  },
  {
   "cell_type": "code",
   "execution_count": 6,
   "id": "a245919d-3a80-417d-b14f-154d06d12dd9",
   "metadata": {},
   "outputs": [
    {
     "name": "stdout",
     "output_type": "stream",
     "text": [
      "I Want to be a data scientist in my life\n",
      "12\n"
     ]
    }
   ],
   "source": [
    "# Write a program to filter count vowels in the below-given string.\n",
    "#      string = \"I want to become a data scientist\"\n",
    "s1 = \"I Want to be a data scientist\"\n",
    "s2 = s1.lower()\n",
    "print(s1)\n",
    "count = 0\n",
    "l = ['a', 'e', 'i', 'o', 'u']\n",
    "for i in s1 :\n",
    "    if i in l :\n",
    "        count = count + 1\n",
    "print (count)"
   ]
  }
 ],
 "metadata": {
  "kernelspec": {
   "display_name": "Python 3 (ipykernel)",
   "language": "python",
   "name": "python3"
  },
  "language_info": {
   "codemirror_mode": {
    "name": "ipython",
    "version": 3
   },
   "file_extension": ".py",
   "mimetype": "text/x-python",
   "name": "python",
   "nbconvert_exporter": "python",
   "pygments_lexer": "ipython3",
   "version": "3.10.6"
  }
 },
 "nbformat": 4,
 "nbformat_minor": 5
}
